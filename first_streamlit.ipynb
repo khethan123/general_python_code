{
  "cells": [
    {
      "cell_type": "markdown",
      "source": [
        "# Run this code in the local system"
      ],
      "metadata": {
        "id": "z5jZnVKSXyVp"
      }
    },
    {
      "cell_type": "code",
      "source": [
        "!pip install streamlit -q"
      ],
      "metadata": {
        "id": "Xz_qyV88ud9t",
        "colab": {
          "base_uri": "https://localhost:8080/"
        },
        "outputId": "973e65d0-c46e-4b96-f199-faff380d2ba4"
      },
      "execution_count": 1,
      "outputs": [
        {
          "output_type": "stream",
          "name": "stdout",
          "text": [
            "\u001b[2K     \u001b[90m━━━━━━━━━━━━━━━━━━━━━━━━━━━━━━━━━━━━━━━━\u001b[0m \u001b[32m8.1/8.1 MB\u001b[0m \u001b[31m18.9 MB/s\u001b[0m eta \u001b[36m0:00:00\u001b[0m\n",
            "\u001b[2K     \u001b[90m━━━━━━━━━━━━━━━━━━━━━━━━━━━━━━━━━━━━━━\u001b[0m \u001b[32m164.8/164.8 kB\u001b[0m \u001b[31m15.7 MB/s\u001b[0m eta \u001b[36m0:00:00\u001b[0m\n",
            "\u001b[2K     \u001b[90m━━━━━━━━━━━━━━━━━━━━━━━━━━━━━━━━━━━━━━\u001b[0m \u001b[32m188.5/188.5 kB\u001b[0m \u001b[31m17.0 MB/s\u001b[0m eta \u001b[36m0:00:00\u001b[0m\n",
            "\u001b[2K     \u001b[90m━━━━━━━━━━━━━━━━━━━━━━━━━━━━━━━━━━━━━━━━\u001b[0m \u001b[32m4.7/4.7 MB\u001b[0m \u001b[31m39.5 MB/s\u001b[0m eta \u001b[36m0:00:00\u001b[0m\n",
            "\u001b[2K     \u001b[90m━━━━━━━━━━━━━━━━━━━━━━━━━━━━━━━━━━━━━━━━\u001b[0m \u001b[32m82.1/82.1 kB\u001b[0m \u001b[31m7.5 MB/s\u001b[0m eta \u001b[36m0:00:00\u001b[0m\n",
            "\u001b[2K     \u001b[90m━━━━━━━━━━━━━━━━━━━━━━━━━━━━━━━━━━━━━━━━\u001b[0m \u001b[32m62.7/62.7 kB\u001b[0m \u001b[31m6.1 MB/s\u001b[0m eta \u001b[36m0:00:00\u001b[0m\n",
            "\u001b[2K     \u001b[90m━━━━━━━━━━━━━━━━━━━━━━━━━━━━━━━━━━━━━━\u001b[0m \u001b[32m341.8/341.8 kB\u001b[0m \u001b[31m26.7 MB/s\u001b[0m eta \u001b[36m0:00:00\u001b[0m\n",
            "\u001b[?25h"
          ]
        }
      ]
    },
    {
      "cell_type": "code",
      "source": [
        "!pip install scikit-learn -q"
      ],
      "metadata": {
        "id": "J6pb76c_wEni"
      },
      "execution_count": 2,
      "outputs": []
    },
    {
      "cell_type": "code",
      "source": [
        "!pip install matplotlib -q"
      ],
      "metadata": {
        "id": "BBciVSnq_fy_"
      },
      "execution_count": 3,
      "outputs": []
    },
    {
      "cell_type": "code",
      "source": [
        "!streamlit hello"
      ],
      "metadata": {
        "id": "KIRzSQEC_qCF",
        "colab": {
          "base_uri": "https://localhost:8080/"
        },
        "outputId": "c72251cc-8c13-40af-d693-67d6a5ba5932"
      },
      "execution_count": 4,
      "outputs": [
        {
          "output_type": "stream",
          "name": "stdout",
          "text": [
            "\n",
            "Collecting usage statistics. To deactivate, set browser.gatherUsageStats to False.\n",
            "\u001b[0m\n",
            "\u001b[0m\n",
            "\u001b[34m\u001b[1m  Welcome to Streamlit. Check out our demo in your browser.\u001b[0m\n",
            "\u001b[0m\n",
            "\u001b[34m  Network URL: \u001b[0m\u001b[1mhttp://172.28.0.12:8501\u001b[0m\n",
            "\u001b[34m  External URL: \u001b[0m\u001b[1mhttp://104.199.193.144:8501\u001b[0m\n",
            "\u001b[0m\n",
            "  Ready to create your own Python apps super quickly?\u001b[0m\n",
            "  Head over to \u001b[0m\u001b[1mhttps://docs.streamlit.io\u001b[0m\n",
            "\u001b[0m\n",
            "  May you create awesome apps!\u001b[0m\n",
            "\u001b[0m\n",
            "\u001b[0m\n",
            "\u001b[34m  Stopping...\u001b[0m\n",
            "^C\n"
          ]
        }
      ]
    },
    {
      "cell_type": "code",
      "source": [
        "%%writefile new_file.py\n",
        "import streamlit as st\n",
        "from PIL import Image\n",
        "from sklearn import datasets\n",
        "import pandas as pandas\n",
        "import numpy as np\n",
        "import matplotlib.pyplot as plt\n",
        "from sklearn.neighbors import KNeighborsClassifier\n",
        "from sklearn.svm import SVC\n",
        "from sklearn.ensemble import RandomForestClassifier\n",
        "from sklearn.model_selection import train_test_split\n",
        "from sklearn.metrics import accuracy_score\n",
        "from sklearn.decomposition import PCA\n",
        "\n",
        "st.title(\"# Welcome\")\n",
        "st.write(\"\"\"\n",
        "## Let's Explore Different Classifiers\n",
        "and see which one is the best. 😉\n",
        "\"\"\")\n",
        "\n",
        "# if we choose a dataset, then the dataset selected will be stored in the the variable.\n",
        "dataset_name = st.sidebar.selectbox(\"Select Dataset\",(\"Iris\",\"Breast Cancer\",\"Wine dataset\"))\n",
        "\n",
        "# let's select the classifiers\n",
        "classifier_name = st.sidebar.selectbox(\"Select Classifier\",(\"KNN\",\"SVC\",\"Random Forest\"))\n",
        "\n",
        "# function to load the dataset and obtain X, y values.\n",
        "def get_dataset(dataset_name):\n",
        "    if dataset_name == \"Iris\":\n",
        "        data = datasets.load_iris()\n",
        "    elif dataset_name == \"Breast Cancer\":\n",
        "        data = datasets.load_breast_cancer()\n",
        "    else:\n",
        "        data = datasets.load_wine()\n",
        "    X = data.data\n",
        "    y = data.target\n",
        "    return X, y\n",
        "\n",
        "X, y = get_dataset(dataset_name)\n",
        "st.write(\"Number of rows and columns in the dataset selected:\", X.shape)\n",
        "st.write(\"Number of classes present in the dataset:\", len(np.unique(y)))\n",
        "\n",
        "params = dict()\n",
        "\n",
        "# function to see and output different parameters needed for each Classifier\n",
        "def add_parameter_ui(classifier_name):\n",
        "    if classifier_name=='KNN':\n",
        "        K = st.sidebar.slider('K', 3, 15) # 1, 15 are the starting and ending values of K which we need.\n",
        "        params['K'] = K\n",
        "    elif classifier_name=='SVC':\n",
        "        C = st.sidebar.slider('C', 0.01, 10.0) # 0.01, 10.0  is the range\n",
        "        params['C'] = C\n",
        "    else:\n",
        "        max_depth = st.sidebar.slider('max_depth', 2, 15)\n",
        "        n_estimators = st.sidebar.slider('n_estimators', 1, 100)\n",
        "        params['max_depth'] = max_depth\n",
        "        params['n_estimators'] = n_estimators\n",
        "    return params\n",
        "\n",
        "add_parameter_ui(classifier_name)\n",
        "\n",
        "# now let's create a classifier to start classifying the data based on the model selected\n",
        "def get_classifier(classifier_name, params):\n",
        "    if classifier_name=='KNN':\n",
        "        clf = KNeighborsClassifier(n_neighbors = params['K'])\n",
        "    elif classifier_name=='SVC':\n",
        "        clf = SVC(C = params['C'])\n",
        "    else:\n",
        "        clf = RandomForestClassifier(n_estimators=params['n_estimators'], max_depth=params['max_depth'], random_state=1)\n",
        "    return clf\n",
        "\n",
        "clf = get_classifier(classifier_name, params)\n",
        "\n",
        "# now let's start the classification and produce some outputs\n",
        "X_train, X_test, y_train, y_test = train_test_split(X, y, test_size=0.2, random_state=1)\n",
        "\n",
        "clf.fit(X_train, y_train)\n",
        "y_predict = clf.predict(X_test)\n",
        "\n",
        "acc = accuracy_score(y_test, y_predict)\n",
        "st.write(f' Classifer = {classifier_name}')\n",
        "st.write(' Accuracy of the classifier for the parameter value selected is ', int(acc*100),'%')\n",
        "\n",
        "# now let's plot the dataset\n",
        "\n",
        "pca =  PCA(2) #number of dimensions we need in order to represent it as a graph\n",
        "X_projected = pca.fit_transform(X)\n",
        "\n",
        "x1 = X_projected[:,0]\n",
        "x2 = X_projected[:,1]\n",
        "\n",
        "fig = plt.figure()\n",
        "plt.scatter(x1,x2,c=y,alpha=0.5,cmap='viridis')\n",
        "plt.xlabel('Principal Component 1')\n",
        "plt.ylabel('Principal Component 2')\n",
        "plt.colorbar()\n",
        "\n",
        "# to show the graph in streamlit using streamlit's graph function\n",
        "st.pyplot(fig)\n",
        "\n",
        "\n",
        "\n"
      ],
      "metadata": {
        "id": "UbzdYQfV_9yy",
        "outputId": "d332d7b5-5b9d-45ae-ac79-ad4952eb1cb6",
        "colab": {
          "base_uri": "https://localhost:8080/"
        }
      },
      "execution_count": 7,
      "outputs": [
        {
          "output_type": "stream",
          "name": "stdout",
          "text": [
            "Writing new_file.py\n"
          ]
        }
      ]
    },
    {
      "cell_type": "markdown",
      "source": [
        "Run streamlit app using local tunnel by using the below code."
      ],
      "metadata": {
        "id": "PdlymgOOvT5k"
      }
    },
    {
      "cell_type": "code",
      "source": [
        "!streamlit run new_file.py & npx localtunnel --port 8501"
      ],
      "metadata": {
        "id": "xbESybWNA6IW",
        "colab": {
          "base_uri": "https://localhost:8080/"
        },
        "outputId": "09cc2293-a7e3-4eb4-cf76-0fa24c6e6478"
      },
      "execution_count": 8,
      "outputs": [
        {
          "output_type": "stream",
          "name": "stdout",
          "text": [
            "\u001b[?25l[..................] / rollbackFailedOptional: verb npm-session 4698d48e4eb20d9\u001b[0m\u001b[K\r[..................] / rollbackFailedOptional: verb npm-session 4698d48e4eb20d9\u001b[0m\u001b[K\r[..................] / rollbackFailedOptional: verb npm-session 4698d48e4eb20d9\u001b[0m\u001b[K\r\n",
            "Collecting usage statistics. To deactivate, set browser.gatherUsageStats to False.\n",
            "\u001b[0m\n",
            "\u001b[0m\n",
            "\u001b[34m\u001b[1m  You can now view your Streamlit app in your browser.\u001b[0m\n",
            "\u001b[0m\n",
            "\u001b[34m  Network URL: \u001b[0m\u001b[1mhttp://172.28.0.12:8501\u001b[0m\n",
            "\u001b[34m  External URL: \u001b[0m\u001b[1mhttp://104.199.193.144:8501\u001b[0m\n",
            "\u001b[0m\n",
            "\u001b[K\u001b[?25hnpx: installed 22 in 4.942s\n",
            "your url is: https://fifty-peas-bow.loca.lt\n",
            "\u001b[34m  Stopping...\u001b[0m\n",
            "^C\n"
          ]
        }
      ]
    }
  ],
  "metadata": {
    "colab": {
      "provenance": []
    },
    "kernelspec": {
      "display_name": "Python 3",
      "name": "python3"
    }
  },
  "nbformat": 4,
  "nbformat_minor": 0
}