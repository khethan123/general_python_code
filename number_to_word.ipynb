{
  "cells": [
    {
      "cell_type": "code",
      "source": [
        "def number_to_word(num):\n",
        "  units = ['zero', 'one', 'two', 'three', 'four', 'five', 'six', 'seven',\n",
        "           'eight', 'nine', 'ten', 'eleven', 'twelve', 'thirteen',\n",
        "    'fourteen', 'fifteen', 'sixteen', 'seventeen', 'eighteen', 'nineteen']\n",
        "\n",
        "  tens = ['', '', 'twenty', 'thirty', 'fourty', 'fifty', 'sixty',\n",
        "          'seventy', 'eighty', 'ninety']\n",
        "\n",
        "  if num < 20:\n",
        "    return units[num]\n",
        "  elif num < 100:\n",
        "    return tens[num//10] + ('' if num%10 == 0 else ' ' + units[num%10])\n",
        "  elif num < 1000:\n",
        "    return units[num//100]+' hundred'+('' if num%100==0\n",
        "                                       else ' ' + number_to_word(num%100))\n",
        "  elif num < 1000000:\n",
        "    return number_to_word(num//1000) + ' thousand'+('' if num%1000==0\n",
        "                        else ' '+number_to_word(num%1000))\n",
        "  else:\n",
        "    return 'Number out of range'\n"
      ],
      "metadata": {
        "id": "-05xBmk00AoJ"
      },
      "execution_count": null,
      "outputs": []
    },
    {
      "cell_type": "code",
      "source": [
        "num = int(input(\"Enter a number: \"))\n",
        "print(number_to_word(num))"
      ],
      "metadata": {
        "id": "ihYyY0GB3uCj",
        "outputId": "308dd194-28e0-4b11-915a-28ca0eda8713",
        "colab": {
          "base_uri": "https://localhost:8080/"
        }
      },
      "execution_count": null,
      "outputs": [
        {
          "output_type": "stream",
          "name": "stdout",
          "text": [
            "Enter a number: 999999\n",
            "nine hundred ninety nine thousand nine hundred ninety nine\n"
          ]
        }
      ]
    },
    {
      "cell_type": "code",
      "source": [
        "print(number_to_word(78925))"
      ],
      "metadata": {
        "id": "8PRfmU0w39mQ",
        "outputId": "bedcb521-1d21-4e93-d70c-0a17469ccfdf",
        "colab": {
          "base_uri": "https://localhost:8080/"
        }
      },
      "execution_count": null,
      "outputs": [
        {
          "output_type": "stream",
          "name": "stdout",
          "text": [
            "seventy eight thousand nine hundred twenty five\n"
          ]
        }
      ]
    },
    {
      "cell_type": "code",
      "source": [],
      "metadata": {
        "id": "VJjO3kSR4btq"
      },
      "execution_count": null,
      "outputs": []
    }
  ],
  "metadata": {
    "colab": {
      "provenance": []
    },
    "kernelspec": {
      "display_name": "Python 3",
      "name": "python3"
    }
  },
  "nbformat": 4,
  "nbformat_minor": 0
}