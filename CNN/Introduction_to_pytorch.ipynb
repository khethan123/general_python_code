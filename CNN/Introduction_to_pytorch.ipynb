{
  "nbformat": 4,
  "nbformat_minor": 0,
  "metadata": {
    "colab": {
      "provenance": [],
      "authorship_tag": "ABX9TyN4jtOlkUYpafjg5CzUPFMy",
      "include_colab_link": true
    },
    "kernelspec": {
      "name": "python3",
      "display_name": "Python 3"
    },
    "language_info": {
      "name": "python"
    }
  },
  "cells": [
    {
      "cell_type": "markdown",
      "metadata": {
        "id": "view-in-github",
        "colab_type": "text"
      },
      "source": [
        "<a href=\"https://colab.research.google.com/github/khethan123/general_python_code/blob/main/Introduction_to_pytorch.ipynb\" target=\"_parent\"><img src=\"https://colab.research.google.com/assets/colab-badge.svg\" alt=\"Open In Colab\"/></a>"
      ]
    },
    {
      "cell_type": "code",
      "source": [
        "!pip install torch torchvision"
      ],
      "metadata": {
        "id": "ItoxgYPIAzuu"
      },
      "execution_count": null,
      "outputs": []
    },
    {
      "cell_type": "code",
      "source": [
        "import torch\n",
        "print(torch.__version__)"
      ],
      "metadata": {
        "colab": {
          "base_uri": "https://localhost:8080/"
        },
        "id": "gQvzUAl2BDur",
        "outputId": "4619a35b-e529-49db-a347-f1fc22c681f0"
      },
      "execution_count": null,
      "outputs": [
        {
          "output_type": "stream",
          "name": "stdout",
          "text": [
            "2.0.1+cu118\n"
          ]
        }
      ]
    },
    {
      "cell_type": "markdown",
      "source": [
        "let's start doing some basic operations using pytorch like making an activation function, generating random weights, bias and i/p features."
      ],
      "metadata": {
        "id": "ybjJY3qnBS6Q"
      }
    },
    {
      "cell_type": "code",
      "source": [
        "def activation(x):\n",
        "  \"\"\"\n",
        "  sigmoid activation fuction is used here\n",
        "  to generate o/p b/w 0 and 1\n",
        "  \"\"\"\n",
        "  return 1/(1+torch.exp(-x))"
      ],
      "metadata": {
        "id": "NTtq0pNxBSNY"
      },
      "execution_count": null,
      "outputs": []
    },
    {
      "cell_type": "code",
      "source": [
        "### Generate some data\n",
        "torch.manual_seed(42) # set the random seed so that things are predictable\n",
        "\n",
        "# let features be 5 random normal variables.\n",
        "features = torch.randn((1,5)) # returns a 2D matrix having normal dist values\n",
        "print(features)"
      ],
      "metadata": {
        "colab": {
          "base_uri": "https://localhost:8080/"
        },
        "id": "aVB9ChrdBK1U",
        "outputId": "e617d656-0f71-4329-c75e-ccfbfa46cffa"
      },
      "execution_count": null,
      "outputs": [
        {
          "output_type": "stream",
          "name": "stdout",
          "text": [
            "tensor([[ 0.3367,  0.1288,  0.2345,  0.2303, -1.1229]])\n"
          ]
        }
      ]
    },
    {
      "cell_type": "markdown",
      "source": [
        "normal distribution means the mean for this numbersdistribution is '0' and the std deviation os '1'"
      ],
      "metadata": {
        "id": "aU9aWC70Crdm"
      }
    },
    {
      "cell_type": "code",
      "source": [
        "# weights having same shape like features and also containing random values\n",
        "weights = torch.randn_like(features)\n",
        "print(weights)"
      ],
      "metadata": {
        "colab": {
          "base_uri": "https://localhost:8080/"
        },
        "id": "uraI8A6fCpCs",
        "outputId": "74dd788b-d827-477d-f8f4-a8f476e64a5a"
      },
      "execution_count": null,
      "outputs": [
        {
          "output_type": "stream",
          "name": "stdout",
          "text": [
            "tensor([[-0.1863,  2.2082, -0.6380,  0.4617,  0.2674]])\n"
          ]
        }
      ]
    },
    {
      "cell_type": "code",
      "source": [
        "# add a bias term\n",
        "bias = torch.randn((1,1))"
      ],
      "metadata": {
        "id": "OyxL3JI0DPyS"
      },
      "execution_count": null,
      "outputs": []
    },
    {
      "cell_type": "markdown",
      "source": [
        "we generated the weights, bias and input features. Now let's calculate the o/p and apply activation function on the o/p."
      ],
      "metadata": {
        "id": "yHqdk5N4D8j9"
      }
    },
    {
      "cell_type": "code",
      "source": [
        "%%timeit\n",
        "y = activation(torch.sum(features * weights) + bias)\n"
      ],
      "metadata": {
        "colab": {
          "base_uri": "https://localhost:8080/"
        },
        "id": "OoM8J3jRDXML",
        "outputId": "1325a072-a009-41ad-f172-f1c53fa32733"
      },
      "execution_count": null,
      "outputs": [
        {
          "output_type": "stream",
          "name": "stdout",
          "text": [
            "45.6 µs ± 8.42 µs per loop (mean ± std. dev. of 7 runs, 10000 loops each)\n"
          ]
        }
      ]
    },
    {
      "cell_type": "code",
      "source": [
        "%%timeit\n",
        "#---- or ----#\n",
        "y1 = activation((features*weights).sum() + bias)\n"
      ],
      "metadata": {
        "colab": {
          "base_uri": "https://localhost:8080/"
        },
        "id": "R_Fh3z7qGu9M",
        "outputId": "3b60087a-1807-44ac-80b9-a0b226e0b5cb"
      },
      "execution_count": null,
      "outputs": [
        {
          "output_type": "stream",
          "name": "stdout",
          "text": [
            "32.6 µs ± 686 ns per loop (mean ± std. dev. of 7 runs, 10000 loops each)\n"
          ]
        }
      ]
    },
    {
      "cell_type": "markdown",
      "source": [
        "the above method is good. what about speed? Well ```torch.mm()``` or ```torch.matmul()``` is more faster when compared with the above operations but we must be careful while using matmul operations. why? basic rule of matrix multiplications is ```(m,n) * (n,p) = (m,p)``` i.e., n = n"
      ],
      "metadata": {
        "id": "ZpXHjdBeEHxc"
      }
    },
    {
      "cell_type": "code",
      "source": [
        "weights.shape"
      ],
      "metadata": {
        "colab": {
          "base_uri": "https://localhost:8080/"
        },
        "id": "NI5jUXhhD2Vy",
        "outputId": "c4643a98-1b02-40c1-bb0f-b3522ebcd37b"
      },
      "execution_count": null,
      "outputs": [
        {
          "output_type": "execute_result",
          "data": {
            "text/plain": [
              "torch.Size([1, 5])"
            ]
          },
          "metadata": {},
          "execution_count": 9
        }
      ]
    },
    {
      "cell_type": "code",
      "source": [
        "%%timeit\n",
        "# resizing the weights using .view() and using them\n",
        "y = activation(torch.mm(features, weights.view(5,1)) + bias)\n"
      ],
      "metadata": {
        "colab": {
          "base_uri": "https://localhost:8080/"
        },
        "id": "zXDhqGWFFThu",
        "outputId": "9e0e78b7-bb0f-42fc-de32-d9fd6d378007"
      },
      "execution_count": null,
      "outputs": [
        {
          "output_type": "stream",
          "name": "stdout",
          "text": [
            "44.3 µs ± 8.76 µs per loop (mean ± std. dev. of 7 runs, 10000 loops each)\n"
          ]
        }
      ]
    },
    {
      "cell_type": "markdown",
      "source": [
        "Okay!, let's try stacking more layers and doing the same as above."
      ],
      "metadata": {
        "id": "MZnSlHhZJuh5"
      }
    },
    {
      "cell_type": "code",
      "source": [
        "### Generate some data\n",
        "torch.manual_seed(7)  # set the random seed so  things are predictable\n",
        "\n",
        "# Features are 3 random normal variables\n",
        "features = torch.randn((1,3))\n",
        "\n",
        "# Define the size of each layer in our network.\n",
        "# i/p layer\n",
        "n_input = features.shape[1] # no. of i/p units, must match no. of i/p features\n",
        "# hidden layer\n",
        "n_hidden = 2                # no. of hidden units\n",
        "# o/p layer\n",
        "n_output = 1                # no.of o/p units\n",
        "\n",
        "# weights for input to hidden layer\n",
        "W1 = torch.randn(n_input, n_hidden)\n",
        "# weights for hidden to o/p layer\n",
        "W2 = torch.randn(n_hidden, n_output)\n",
        "\n",
        "# bias termfor hidden and output layers\n",
        "B1 = torch.randn(1, n_hidden)\n",
        "B2 = torch.randn(1, n_output)\n"
      ],
      "metadata": {
        "id": "jdbkher3HvhE"
      },
      "execution_count": null,
      "outputs": []
    },
    {
      "cell_type": "code",
      "source": [
        "# using activation on both layers doesn't mean it's compulsory\n",
        "# here we used it just for checking.\n",
        "L1 = activation(torch.mm(features, W1) + B1)\n",
        "L2 = activation(torch.mm(L1, W2) + B2)\n",
        "print(L2)"
      ],
      "metadata": {
        "colab": {
          "base_uri": "https://localhost:8080/"
        },
        "id": "7UY_Ve6DMOGF",
        "outputId": "5bcc52c9-6992-48bd-d044-0ece8b1b5775"
      },
      "execution_count": null,
      "outputs": [
        {
          "output_type": "stream",
          "name": "stdout",
          "text": [
            "tensor([[0.3171]])\n"
          ]
        }
      ]
    },
    {
      "cell_type": "markdown",
      "source": [
        "BONUS!! PyTorch allows converting b/w numpy arrays and torch tensors.\n",
        "tensor from numpy array -> ```torch.fom_numpy()```\n",
        "numpy array from tensor -> ```tensor.numpy()```"
      ],
      "metadata": {
        "id": "OCQ9a5tGQDEE"
      }
    },
    {
      "cell_type": "code",
      "source": [
        "import numpy as np\n",
        "\n",
        "a = np.random.randn(4,3)\n",
        "print(a)"
      ],
      "metadata": {
        "colab": {
          "base_uri": "https://localhost:8080/"
        },
        "id": "dtaMVcyBM5Ix",
        "outputId": "346ff756-350a-42d3-b440-4fc618135431"
      },
      "execution_count": null,
      "outputs": [
        {
          "output_type": "stream",
          "name": "stdout",
          "text": [
            "[[ 0.35099547 -0.93442363  0.65758586]\n",
            " [-1.933035   -0.88403665 -0.06062136]\n",
            " [-1.58156596 -0.13884732 -0.33750627]\n",
            " [-1.8080006   0.45605693 -0.43899142]]\n"
          ]
        }
      ]
    },
    {
      "cell_type": "code",
      "source": [
        "b = torch.from_numpy(a)\n",
        "b"
      ],
      "metadata": {
        "colab": {
          "base_uri": "https://localhost:8080/"
        },
        "id": "heX0VQ1vQviL",
        "outputId": "51a41336-ba4f-4c59-f819-594a32d04644"
      },
      "execution_count": null,
      "outputs": [
        {
          "output_type": "execute_result",
          "data": {
            "text/plain": [
              "tensor([[ 0.3510, -0.9344,  0.6576],\n",
              "        [-1.9330, -0.8840, -0.0606],\n",
              "        [-1.5816, -0.1388, -0.3375],\n",
              "        [-1.8080,  0.4561, -0.4390]], dtype=torch.float64)"
            ]
          },
          "metadata": {},
          "execution_count": 24
        }
      ]
    },
    {
      "cell_type": "code",
      "source": [
        "b.numpy()\n",
        "\"\"\"\n",
        "b.numpy() will bot change the value of b.\n",
        "b will remain as a tensor even after this operation.\n",
        "\"\"\""
      ],
      "metadata": {
        "colab": {
          "base_uri": "https://localhost:8080/"
        },
        "id": "Tgx_iHtCQ14m",
        "outputId": "f9381635-2d28-4f27-9beb-09ddc2cf2f8d"
      },
      "execution_count": null,
      "outputs": [
        {
          "output_type": "execute_result",
          "data": {
            "text/plain": [
              "array([[ 0.35099547, -0.93442363,  0.65758586],\n",
              "       [-1.933035  , -0.88403665, -0.06062136],\n",
              "       [-1.58156596, -0.13884732, -0.33750627],\n",
              "       [-1.8080006 ,  0.45605693, -0.43899142]])"
            ]
          },
          "metadata": {},
          "execution_count": 28
        }
      ]
    },
    {
      "cell_type": "code",
      "source": [
        "\"\"\"\n",
        "Also note that a (array) = b (tensor) i.e., see the above o/ps for a and b\n",
        "and it will be clear that they actually share the memory.\n",
        "so if we change the values in-place of one object, the other will change\n",
        "as well. similar to list operations.\n",
        "\"\"\""
      ],
      "metadata": {
        "colab": {
          "base_uri": "https://localhost:8080/",
          "height": 53
        },
        "id": "qSYJhrH_Q583",
        "outputId": "51c4ac17-0338-4295-8f66-44c9968bccac"
      },
      "execution_count": null,
      "outputs": [
        {
          "output_type": "execute_result",
          "data": {
            "text/plain": [
              "'\\nAlso note that a (array) = b (tensor) i.e., see the above o/ps for a and b\\nand it will be clear that they actually share the memory.\\nso if we change the values in-place of one object, the other will change \\nas well. similar to list operations.\\n'"
            ],
            "application/vnd.google.colaboratory.intrinsic+json": {
              "type": "string"
            }
          },
          "metadata": {},
          "execution_count": 29
        }
      ]
    },
    {
      "cell_type": "code",
      "source": [
        "b.mul_(2) # in-place multiply by 2"
      ],
      "metadata": {
        "colab": {
          "base_uri": "https://localhost:8080/"
        },
        "id": "t8rCfafDSBqH",
        "outputId": "a9a09715-f462-48ba-8083-db465a64063b"
      },
      "execution_count": null,
      "outputs": [
        {
          "output_type": "execute_result",
          "data": {
            "text/plain": [
              "tensor([[ 0.7020, -1.8688,  1.3152],\n",
              "        [-3.8661, -1.7681, -0.1212],\n",
              "        [-3.1631, -0.2777, -0.6750],\n",
              "        [-3.6160,  0.9121, -0.8780]], dtype=torch.float64)"
            ]
          },
          "metadata": {},
          "execution_count": 30
        }
      ]
    },
    {
      "cell_type": "code",
      "source": [
        "a"
      ],
      "metadata": {
        "colab": {
          "base_uri": "https://localhost:8080/"
        },
        "id": "wdV-OH40SLMV",
        "outputId": "5c61097c-6c34-436a-d847-006192c4eefc"
      },
      "execution_count": null,
      "outputs": [
        {
          "output_type": "execute_result",
          "data": {
            "text/plain": [
              "array([[ 0.70199094, -1.86884725,  1.31517173],\n",
              "       [-3.86607   , -1.76807331, -0.12124272],\n",
              "       [-3.16313192, -0.27769464, -0.67501253],\n",
              "       [-3.6160012 ,  0.91211385, -0.87798284]])"
            ]
          },
          "metadata": {},
          "execution_count": 31
        }
      ]
    },
    {
      "cell_type": "markdown",
      "source": [
        "# **Let's use MNIST dataset now to build a neural network and classify the images.**"
      ],
      "metadata": {
        "id": "CaGMrOuJg5oJ"
      }
    },
    {
      "cell_type": "code",
      "source": [
        "%matplotlib inline\n",
        "%config InlineBackend.figure_format = 'retina'\n",
        "\n",
        "import helper\n",
        "import matplotlib.pyplot as plt"
      ],
      "metadata": {
        "id": "vD5NQe7WSMpY"
      },
      "execution_count": null,
      "outputs": []
    },
    {
      "cell_type": "code",
      "source": [
        "# The MNIST datasets are hosted on yann.lecun.com that has moved under CloudFlare protection\n",
        "# Run this script to enable the datasets download\n",
        "# Reference: https://github.com/pytorch/vision/issues/1938\n",
        "\n",
        "from six.moves import urllib\n",
        "opener = urllib.request.build_opener()\n",
        "opener.addheaders = [('User-agent', 'Mozilla/5.0')]\n",
        "urllib.request.install_opener(opener)"
      ],
      "metadata": {
        "id": "RNf_oIq8dK8z"
      },
      "execution_count": null,
      "outputs": []
    },
    {
      "cell_type": "code",
      "source": [
        "from torchvision import datasets, transforms\n",
        "\n",
        "# Define a transform to normalize the data to prepare the data\n",
        "transform = transforms.Compose([transforms.ToTensor(),\n",
        "                              transforms.Normalize((0.5,), (0.5,)),\n",
        "                              ])\n",
        "\n",
        "# Download and load the training data\n",
        "trainset = datasets.MNIST('~/.pytorch/MNIST_data/', download=True, train=True, transform=transform)\n",
        "trainloader = torch.utils.data.DataLoader(trainset, batch_size=64, shuffle=True)"
      ],
      "metadata": {
        "colab": {
          "base_uri": "https://localhost:8080/"
        },
        "id": "bqyROxbCdYC7",
        "outputId": "5dd1fd6b-0fc1-43c8-d4fa-4c1b24fa1a09"
      },
      "execution_count": null,
      "outputs": [
        {
          "output_type": "stream",
          "name": "stdout",
          "text": [
            "Downloading http://yann.lecun.com/exdb/mnist/train-images-idx3-ubyte.gz\n",
            "Downloading http://yann.lecun.com/exdb/mnist/train-images-idx3-ubyte.gz to /root/.pytorch/MNIST_data/MNIST/raw/train-images-idx3-ubyte.gz\n"
          ]
        },
        {
          "output_type": "stream",
          "name": "stderr",
          "text": [
            "100%|██████████| 9912422/9912422 [00:00<00:00, 85768210.59it/s]\n"
          ]
        },
        {
          "output_type": "stream",
          "name": "stdout",
          "text": [
            "Extracting /root/.pytorch/MNIST_data/MNIST/raw/train-images-idx3-ubyte.gz to /root/.pytorch/MNIST_data/MNIST/raw\n",
            "\n",
            "Downloading http://yann.lecun.com/exdb/mnist/train-labels-idx1-ubyte.gz\n",
            "Downloading http://yann.lecun.com/exdb/mnist/train-labels-idx1-ubyte.gz to /root/.pytorch/MNIST_data/MNIST/raw/train-labels-idx1-ubyte.gz\n"
          ]
        },
        {
          "output_type": "stream",
          "name": "stderr",
          "text": [
            "100%|██████████| 28881/28881 [00:00<00:00, 34819112.91it/s]"
          ]
        },
        {
          "output_type": "stream",
          "name": "stdout",
          "text": [
            "Extracting /root/.pytorch/MNIST_data/MNIST/raw/train-labels-idx1-ubyte.gz to /root/.pytorch/MNIST_data/MNIST/raw\n",
            "\n",
            "Downloading http://yann.lecun.com/exdb/mnist/t10k-images-idx3-ubyte.gz\n",
            "Downloading http://yann.lecun.com/exdb/mnist/t10k-images-idx3-ubyte.gz to /root/.pytorch/MNIST_data/MNIST/raw/t10k-images-idx3-ubyte.gz\n"
          ]
        },
        {
          "output_type": "stream",
          "name": "stderr",
          "text": [
            "\n",
            "100%|██████████| 1648877/1648877 [00:00<00:00, 22159074.27it/s]\n"
          ]
        },
        {
          "output_type": "stream",
          "name": "stdout",
          "text": [
            "Extracting /root/.pytorch/MNIST_data/MNIST/raw/t10k-images-idx3-ubyte.gz to /root/.pytorch/MNIST_data/MNIST/raw\n",
            "\n",
            "Downloading http://yann.lecun.com/exdb/mnist/t10k-labels-idx1-ubyte.gz\n",
            "Downloading http://yann.lecun.com/exdb/mnist/t10k-labels-idx1-ubyte.gz to /root/.pytorch/MNIST_data/MNIST/raw/t10k-labels-idx1-ubyte.gz\n"
          ]
        },
        {
          "output_type": "stream",
          "name": "stderr",
          "text": [
            "100%|██████████| 4542/4542 [00:00<00:00, 5050511.34it/s]\n"
          ]
        },
        {
          "output_type": "stream",
          "name": "stdout",
          "text": [
            "Extracting /root/.pytorch/MNIST_data/MNIST/raw/t10k-labels-idx1-ubyte.gz to /root/.pytorch/MNIST_data/MNIST/raw\n",
            "\n"
          ]
        }
      ]
    },
    {
      "cell_type": "code",
      "source": [
        "dataiter = iter(trainloader) # to make it an iterator like for loop\n",
        "images, labels = next(dataiter)\n",
        "print(type(images))\n",
        "print(images.shape)\n",
        "print(labels.shape)"
      ],
      "metadata": {
        "colab": {
          "base_uri": "https://localhost:8080/"
        },
        "id": "gH2DJEowfGEg",
        "outputId": "68b93f89-fcdd-4a85-d72c-eaf87f6d9fd1"
      },
      "execution_count": null,
      "outputs": [
        {
          "output_type": "stream",
          "name": "stdout",
          "text": [
            "<class 'torch.Tensor'>\n",
            "torch.Size([64, 1, 28, 28])\n",
            "torch.Size([64])\n"
          ]
        }
      ]
    },
    {
      "cell_type": "code",
      "source": [
        "plt.imshow(images[9].numpy().squeeze(), cmap='Greys_r')"
      ],
      "metadata": {
        "colab": {
          "base_uri": "https://localhost:8080/",
          "height": 447
        },
        "id": "Vqfv6w5wfTWS",
        "outputId": "8111a3ef-43d4-4c1c-b197-d8b37f717c0b"
      },
      "execution_count": null,
      "outputs": [
        {
          "output_type": "execute_result",
          "data": {
            "text/plain": [
              "<matplotlib.image.AxesImage at 0x79022fdd9c90>"
            ]
          },
          "metadata": {},
          "execution_count": 36
        },
        {
          "output_type": "display_data",
          "data": {
            "text/plain": [
              "<Figure size 640x480 with 1 Axes>"
            ],
            "image/png": "[encoded data removed]"
          },
          "metadata": {
            "image/png": {
              "width": 417,
              "height": 413
            }
          }
        }
      ]
    },
    {
      "cell_type": "markdown",
      "source": [
        "our images data is basically a 4D tensor which is not uselful for 2D matrix calculations so we reshape the images dataset."
      ],
      "metadata": {
        "id": "W-xxhCAMkV37"
      }
    },
    {
      "cell_type": "code",
      "source": [
        "images.view((64,784))\n",
        "\n",
        "#  or images.view(images.shape[0], -1)\n",
        "# the above code also performs the same as previous one\n",
        "# use it when we do not know the size of i/p image"
      ],
      "metadata": {
        "colab": {
          "base_uri": "https://localhost:8080/"
        },
        "id": "6uVzh6iYfnvn",
        "outputId": "5abb70c1-0e0b-4a30-a2dc-526a15bcf6d5"
      },
      "execution_count": null,
      "outputs": [
        {
          "output_type": "execute_result",
          "data": {
            "text/plain": [
              "tensor([[-1., -1., -1.,  ..., -1., -1., -1.],\n",
              "        [-1., -1., -1.,  ..., -1., -1., -1.],\n",
              "        [-1., -1., -1.,  ..., -1., -1., -1.],\n",
              "        ...,\n",
              "        [-1., -1., -1.,  ..., -1., -1., -1.],\n",
              "        [-1., -1., -1.,  ..., -1., -1., -1.],\n",
              "        [-1., -1., -1.,  ..., -1., -1., -1.]])"
            ]
          },
          "metadata": {},
          "execution_count": 43
        }
      ]
    },
    {
      "cell_type": "markdown",
      "source": [
        "**let's manually try building a neural network first.**\n",
        "It has 3 layers ```i/p => (64, 784)```, ```hidden_layer => (784, 256)```, ```o/p => (256, 10)```"
      ],
      "metadata": {
        "id": "gWtW_QCEiGfO"
      }
    },
    {
      "cell_type": "code",
      "source": [
        "### Generate some data\n",
        "torch.manual_seed(7)  # set the random seed so  things are predictable\n",
        "\n",
        "# Define the size of each layer in our network.\n",
        "# i/p layer\n",
        "n_input = 784  # no. of i/p units, must match no. of i/p features\n",
        "# hidden layer\n",
        "n_hidden = 256                # no. of hidden units\n",
        "# o/p layer\n",
        "n_output = 10               # no.of o/p units\n",
        "\n",
        "# weights for input to hidden layer\n",
        "W_mnist_1 = torch.randn(n_input, n_hidden)\n",
        "# weights for hidden to o/p layer\n",
        "W_mnist_2 = torch.randn(n_hidden, n_output)\n",
        "\n",
        "# bias termfor hidden and output layers\n",
        "B_mnist_1 = torch.randn(1, n_hidden)\n",
        "B_mnist_2 = torch.randn(1, n_output)"
      ],
      "metadata": {
        "id": "A4Km8NSqgOHM"
      },
      "execution_count": null,
      "outputs": []
    },
    {
      "cell_type": "code",
      "source": [
        "L_mnist_1 = activation(torch.mm(images.view((64,784)), W_mnist_1) + B_mnist_1)\n",
        "L_mnist_2 = (torch.mm(L_mnist_1, W_mnist_2) + B_mnist_2)\n",
        "\n",
        "print(L_mnist_2.shape)"
      ],
      "metadata": {
        "colab": {
          "base_uri": "https://localhost:8080/"
        },
        "id": "j__rBMSKhJ3m",
        "outputId": "a273c704-dcb2-4736-f661-d46de09427cb"
      },
      "execution_count": null,
      "outputs": [
        {
          "output_type": "stream",
          "name": "stdout",
          "text": [
            "torch.Size([64, 10])\n"
          ]
        }
      ]
    },
    {
      "cell_type": "code",
      "source": [
        "def softmax(x):\n",
        "  \"\"\"\n",
        "  gives a proper probability distribution\n",
        "  where the probabilites sum up to one.\n",
        "  dim =1 means adding all values in a row.\n",
        "  (64, 10) / (10, 1) => (64, 1)\"\"\"\n",
        "\n",
        "  return torch.exp(x)/torch.sum(torch.exp(x), dim = 1).view(-1, 1)"
      ],
      "metadata": {
        "id": "fpV4bm-olg84"
      },
      "execution_count": null,
      "outputs": []
    },
    {
      "cell_type": "code",
      "source": [
        "out = L_mnist_2\n",
        "probabilities = softmax(out)\n",
        "print(probabilities.shape)\n",
        "print(torch.sum(probabilities.sum(dim=1))/64)"
      ],
      "metadata": {
        "colab": {
          "base_uri": "https://localhost:8080/"
        },
        "id": "N5Xq7YmIn-tp",
        "outputId": "3ce9a912-6920-48cc-96b7-db5b5c7542b1"
      },
      "execution_count": null,
      "outputs": [
        {
          "output_type": "stream",
          "name": "stdout",
          "text": [
            "torch.Size([64, 10])\n",
            "tensor(1.)\n"
          ]
        }
      ]
    },
    {
      "cell_type": "code",
      "source": [
        "from torch import nn\n",
        "import torch.nn.functional as F"
      ],
      "metadata": {
        "id": "RBn4MY13oEZl"
      },
      "execution_count": null,
      "outputs": []
    },
    {
      "cell_type": "code",
      "source": [
        "class Network(nn.Module):\n",
        "  def __init__(self):\n",
        "    super().__init__()\n",
        "\n",
        "    # x1w1 + x2w2 + ... + xnwn + b = linear transformation\n",
        "    # linear transformations so use linear layer\n",
        "    self.hidden = nn.Linear(784, 256)\n",
        "    self.output = nn.Linear(256, 10)\n",
        "\n",
        "    # activation functions\n",
        "    self.sigmoid = nn.Sigmoid()\n",
        "    self.softmax = nn.Softmax(dim=1)\n",
        "\n",
        "  def forward_pass(self, x):\n",
        "    x = self.hidden(x)\n",
        "    x = self.sigmoid(x)\n",
        "    x = self.output(x)\n",
        "    x = self.softmax(x)\n",
        "\n",
        "    return x"
      ],
      "metadata": {
        "id": "h71T1yCUszVK"
      },
      "execution_count": null,
      "outputs": []
    },
    {
      "cell_type": "code",
      "source": [
        "model = Network()\n",
        "model"
      ],
      "metadata": {
        "colab": {
          "base_uri": "https://localhost:8080/"
        },
        "id": "zs5XtNsxt67M",
        "outputId": "ddd2884d-1c71-4648-c278-2ab0c9a6c204"
      },
      "execution_count": null,
      "outputs": [
        {
          "output_type": "execute_result",
          "data": {
            "text/plain": [
              "Network(\n",
              "  (hidden): Linear(in_features=784, out_features=256, bias=True)\n",
              "  (output): Linear(in_features=256, out_features=10, bias=True)\n",
              "  (sigmoid): Sigmoid()\n",
              "  (softmax): Softmax(dim=1)\n",
              ")"
            ]
          },
          "metadata": {},
          "execution_count": 56
        }
      ]
    },
    {
      "cell_type": "code",
      "source": [
        "model_out = model.forward_pass(images.view(64, 784))\n"
      ],
      "metadata": {
        "id": "N5r7sq7CuNOp"
      },
      "execution_count": null,
      "outputs": []
    },
    {
      "cell_type": "code",
      "source": [
        "print(model_out.shape)"
      ],
      "metadata": {
        "colab": {
          "base_uri": "https://localhost:8080/"
        },
        "id": "9MH8ipyuviSK",
        "outputId": "0392b081-ee78-46f5-83e5-6323791cc65b"
      },
      "execution_count": null,
      "outputs": [
        {
          "output_type": "stream",
          "name": "stdout",
          "text": [
            "torch.Size([64, 10])\n"
          ]
        }
      ]
    },
    {
      "cell_type": "markdown",
      "source": [
        "**The above code has no errors but we can define the network somewhat more concisely and clearly using ```torch.nn.functional``` module.**"
      ],
      "metadata": {
        "id": "kNZc4ekywTrf"
      }
    },
    {
      "cell_type": "code",
      "source": [
        "class NewNetwork(nn.Module):\n",
        "  def __init__(self):\n",
        "    super().__init__()\n",
        "\n",
        "    self.hidden = nn.Linear(784,256)\n",
        "    self.output = nn.Linear(256, 10)\n",
        "\n",
        "  def forward_pass(self, x):\n",
        "    x = F.sigmoid(self.hidden(x))\n",
        "    x = F.softmax(self.output(x), dim=1)\n",
        "\n",
        "    return x"
      ],
      "metadata": {
        "id": "iPHNsWVivpZU"
      },
      "execution_count": null,
      "outputs": []
    },
    {
      "cell_type": "code",
      "source": [
        "model_1 = NewNetwork()\n",
        "model_1"
      ],
      "metadata": {
        "colab": {
          "base_uri": "https://localhost:8080/"
        },
        "id": "Ncn8xpaUxUsy",
        "outputId": "a1522c20-e005-4490-a843-4994b790ceb0"
      },
      "execution_count": null,
      "outputs": [
        {
          "output_type": "execute_result",
          "data": {
            "text/plain": [
              "NewNetwork(\n",
              "  (hidden): Linear(in_features=784, out_features=256, bias=True)\n",
              "  (output): Linear(in_features=256, out_features=10, bias=True)\n",
              ")"
            ]
          },
          "metadata": {},
          "execution_count": 61
        }
      ]
    },
    {
      "cell_type": "markdown",
      "source": [
        "# Multiple neural networks."
      ],
      "metadata": {
        "id": "Dp96BQwqxvel"
      }
    },
    {
      "cell_type": "code",
      "source": [
        "class MultipleNetwork(nn.Module):\n",
        "  def __init__(self):\n",
        "    super().__init__()\n",
        "\n",
        "    self.fc1 = nn.Linear(784, 128)\n",
        "    self.fc2 = nn.Linear(128, 64)\n",
        "    self.fc3 = nn.Linear(64, 10)\n",
        "\n",
        "  def forward(self, x):\n",
        "    x = F.relu(self.fc1(x))\n",
        "    x = F.relu(self.fc2(x))\n",
        "    x = F.softmax(self.fc3(x))\n",
        "\n",
        "    return x"
      ],
      "metadata": {
        "id": "NzADvH72xjD4"
      },
      "execution_count": null,
      "outputs": []
    },
    {
      "cell_type": "code",
      "source": [
        "model_2 = MultipleNetwork()\n",
        "model_2"
      ],
      "metadata": {
        "colab": {
          "base_uri": "https://localhost:8080/"
        },
        "id": "LRPHLyJyyzK1",
        "outputId": "27981162-c694-495a-828c-5c72bf3ef7b9"
      },
      "execution_count": null,
      "outputs": [
        {
          "output_type": "execute_result",
          "data": {
            "text/plain": [
              "MultipleNetwork(\n",
              "  (fc1): Linear(in_features=784, out_features=128, bias=True)\n",
              "  (fc2): Linear(in_features=128, out_features=64, bias=True)\n",
              "  (fc3): Linear(in_features=64, out_features=10, bias=True)\n",
              ")"
            ]
          },
          "metadata": {},
          "execution_count": 63
        }
      ]
    },
    {
      "cell_type": "code",
      "source": [
        "print(model_2.fc1.weight)\n",
        "print(model_2.fc1.bias)"
      ],
      "metadata": {
        "colab": {
          "base_uri": "https://localhost:8080/"
        },
        "id": "bsPOUNtNy4b5",
        "outputId": "ddb648e5-4030-4dd9-92c2-ffb2a0d04e53"
      },
      "execution_count": null,
      "outputs": [
        {
          "output_type": "stream",
          "name": "stdout",
          "text": [
            "Parameter containing:\n",
            "tensor([[ 0.0037, -0.0326, -0.0192,  ..., -0.0349,  0.0259,  0.0161],\n",
            "        [-0.0220, -0.0092,  0.0267,  ..., -0.0161,  0.0141, -0.0044],\n",
            "        [-0.0064, -0.0073, -0.0031,  ...,  0.0184, -0.0096,  0.0041],\n",
            "        ...,\n",
            "        [ 0.0060,  0.0094, -0.0092,  ..., -0.0041,  0.0043,  0.0321],\n",
            "        [ 0.0072,  0.0201, -0.0352,  ...,  0.0153,  0.0339, -0.0236],\n",
            "        [-0.0058, -0.0033,  0.0309,  ...,  0.0168,  0.0218, -0.0037]],\n",
            "       requires_grad=True)\n",
            "Parameter containing:\n",
            "tensor([-3.5140e-02, -1.8390e-02,  6.8961e-03, -6.9769e-03,  2.4835e-02,\n",
            "         1.9385e-02, -3.0230e-02, -1.4221e-02,  3.2151e-02,  3.1239e-02,\n",
            "        -1.7553e-02,  3.0973e-02,  5.0422e-03,  2.2563e-02, -1.0080e-02,\n",
            "        -1.6343e-02,  2.3792e-02,  2.4730e-02, -3.9857e-03,  2.1657e-03,\n",
            "        -2.8466e-02, -8.3228e-03,  2.9120e-02,  2.1403e-02, -2.9136e-02,\n",
            "         1.0794e-02,  3.0851e-02, -2.9646e-02, -1.3545e-03,  1.0354e-02,\n",
            "        -2.0239e-02, -3.4332e-03,  4.5024e-03,  1.9264e-02, -3.2477e-02,\n",
            "         1.6491e-02, -1.0096e-02, -2.6991e-02,  2.9006e-02,  3.0890e-02,\n",
            "         1.7626e-02, -2.8384e-02,  1.6996e-02,  3.1699e-02, -3.2983e-02,\n",
            "         7.3245e-03, -1.4970e-03,  1.5976e-02,  2.4653e-02, -3.3400e-02,\n",
            "        -1.5479e-02, -1.5885e-02,  1.4428e-02, -1.8460e-02,  2.3303e-02,\n",
            "        -1.1370e-02, -3.4816e-02,  3.2627e-02, -5.0322e-03,  2.2719e-02,\n",
            "        -3.2456e-02, -3.0452e-02,  8.7143e-03, -3.8612e-03,  2.3204e-02,\n",
            "        -2.4670e-02,  1.6124e-02,  2.9019e-02,  3.1455e-02,  2.0461e-02,\n",
            "         3.4583e-03,  3.2123e-02,  3.0809e-02, -1.2939e-02,  3.1171e-02,\n",
            "         2.5635e-02, -7.0687e-03,  9.4935e-03, -5.2699e-03,  2.8339e-02,\n",
            "         1.6139e-02,  1.4165e-02,  2.2754e-02,  1.1160e-03, -7.7923e-03,\n",
            "        -2.5718e-02, -3.2703e-02,  1.4116e-02,  2.7836e-02,  1.9810e-02,\n",
            "        -7.4462e-03, -9.3377e-03,  1.5423e-02, -1.9070e-02, -2.3849e-02,\n",
            "         2.6981e-02,  3.0851e-02, -1.5464e-02,  2.0384e-02, -1.9958e-03,\n",
            "         8.9962e-03,  2.3228e-03,  1.3813e-02, -3.1365e-02, -5.4546e-04,\n",
            "         1.5626e-02,  2.5123e-02, -2.3208e-02, -1.6894e-05,  1.2816e-02,\n",
            "        -1.2746e-02, -8.8908e-03, -3.3100e-02, -1.8990e-02, -2.8890e-03,\n",
            "        -1.9442e-02,  2.8550e-02,  7.8770e-03, -7.5093e-03, -2.4321e-02,\n",
            "         1.1139e-02, -1.7582e-02,  1.1038e-02, -1.7589e-02, -5.9483e-03,\n",
            "        -1.3481e-02, -8.0589e-03, -1.1273e-02], requires_grad=True)\n"
          ]
        }
      ]
    },
    {
      "cell_type": "code",
      "source": [
        "def view_classify(img, ps, version=\"MNIST\"):\n",
        "    ''' Function for viewing an image and it's predicted classes.\n",
        "    '''\n",
        "    ps = ps.data.numpy().squeeze()\n",
        "\n",
        "    fig, (ax1, ax2) = plt.subplots(figsize=(6,9), ncols=2)\n",
        "    ax1.imshow(img.resize_(1, 28, 28).numpy().squeeze())\n",
        "    ax1.axis('off')\n",
        "    ax2.barh(np.arange(10), ps)\n",
        "    ax2.set_aspect(0.1)\n",
        "    ax2.set_yticks(np.arange(10))\n",
        "    if version == \"MNIST\":\n",
        "        ax2.set_yticklabels(np.arange(10))\n",
        "    elif version == \"Fashion\":\n",
        "        ax2.set_yticklabels(['T-shirt/top',\n",
        "                            'Trouser',\n",
        "                            'Pullover',\n",
        "                            'Dress',\n",
        "                            'Coat',\n",
        "                            'Sandal',\n",
        "                            'Shirt',\n",
        "                            'Sneaker',\n",
        "                            'Bag',\n",
        "                            'Ankle Boot'], size='small');\n",
        "    ax2.set_title('Class Probability')\n",
        "    ax2.set_xlim(0, 1.1)"
      ],
      "metadata": {
        "id": "GEsOXt090E8O"
      },
      "execution_count": null,
      "outputs": []
    },
    {
      "cell_type": "code",
      "source": [
        "\n",
        "\n",
        "# Resize images into a 1D vector, new shape is (batch size, color channels, image pixels)\n",
        "images.resize_(64, 1, 784)\n",
        "# or images.resize_(images.shape[0], 1, 784) to automatically get batch size\n",
        "\n",
        "# Forward pass through the network\n",
        "img_idx = 0\n",
        "ps = model_2.forward(images[img_idx,:])\n",
        "\n",
        "img = images[img_idx]\n",
        "view_classify(img.view(1, 28, 28), ps)"
      ],
      "metadata": {
        "colab": {
          "base_uri": "https://localhost:8080/",
          "height": 324
        },
        "id": "Ll16MijMzOdL",
        "outputId": "e6a28673-1f44-424f-f3bb-257884e35ca8"
      },
      "execution_count": null,
      "outputs": [
        {
          "output_type": "stream",
          "name": "stderr",
          "text": [
            "<ipython-input-62-6cd898906be9>:12: UserWarning: Implicit dimension choice for softmax has been deprecated. Change the call to include dim=X as an argument.\n",
            "  x = F.softmax(self.fc3(x))\n"
          ]
        },
        {
          "output_type": "display_data",
          "data": {
            "text/plain": [
              "<Figure size 600x900 with 2 Axes>"
            ],
            "image/png": "[encoded data removed]"
          },
          "metadata": {
            "image/png": {
              "width": 484,
              "height": 272
            }
          }
        }
      ]
    },
    {
      "cell_type": "markdown",
      "source": [
        "As you can see above, our network has basically no idea what this digit is. It's because we haven't trained it yet, all the weights are random!\n",
        "Instead of creating a class we can also use ```nn.Sequential```. the code basically looks like below."
      ],
      "metadata": {
        "id": "9R_RcW-d0KIZ"
      }
    },
    {
      "cell_type": "code",
      "source": [
        "# Hyperparameters for our network\n",
        "input_size = 784\n",
        "hidden_sizes = [128, 64]\n",
        "output_size = 10\n",
        "\n",
        "# Build a feed-forward network\n",
        "model = nn.Sequential(nn.Linear(input_size, hidden_sizes[0]),\n",
        "                      nn.ReLU(),\n",
        "                      nn.Linear(hidden_sizes[0], hidden_sizes[1]),\n",
        "                      nn.ReLU(),\n",
        "                      nn.Linear(hidden_sizes[1], output_size),\n",
        "                      nn.Softmax(dim=1))\n",
        "print(model)\n",
        "\n",
        "# Forward pass through the network and display output\n",
        "images.resize_(images.shape[0], 1, 784)\n",
        "ps = model.forward(images[0,:])\n",
        "view_classify(images[0].view(1, 28, 28), ps)"
      ],
      "metadata": {
        "colab": {
          "base_uri": "https://localhost:8080/",
          "height": 428
        },
        "id": "klA6ZCxS1TRl",
        "outputId": "17280878-b37d-44d6-e9b8-16362b961f85"
      },
      "execution_count": null,
      "outputs": [
        {
          "output_type": "stream",
          "name": "stdout",
          "text": [
            "Sequential(\n",
            "  (0): Linear(in_features=784, out_features=128, bias=True)\n",
            "  (1): ReLU()\n",
            "  (2): Linear(in_features=128, out_features=64, bias=True)\n",
            "  (3): ReLU()\n",
            "  (4): Linear(in_features=64, out_features=10, bias=True)\n",
            "  (5): Softmax(dim=1)\n",
            ")\n"
          ]
        },
        {
          "output_type": "display_data",
          "data": {
            "text/plain": [
              "<Figure size 600x900 with 2 Axes>"
            ],
            "image/png": "[encoded data removed]"
          },
          "metadata": {
            "image/png": {
              "width": 484,
              "height": 272
            }
          }
        }
      ]
    },
    {
      "cell_type": "markdown",
      "source": [
        "But again we didn't train the model yet! so its understandable. But we did reduce the code and made it much more concise and easy to understand. Not to forget, the layers in ```nn.Sequential``` are always executed in the order they were first defined."
      ],
      "metadata": {
        "id": "k6kWBePG1ZDz"
      }
    },
    {
      "cell_type": "markdown",
      "source": [
        "# **Let's Train our model now and see how it performs.**"
      ],
      "metadata": {
        "id": "MdgcogiP2Yq8"
      }
    },
    {
      "cell_type": "code",
      "source": [
        "# build a feed-forward network\n",
        "train_model = nn.Sequential(\n",
        "    nn.Linear(784,128),\n",
        "    nn.ReLU(),\n",
        "    nn.Linear(128, 64),\n",
        "    nn.ReLU(),\n",
        "    nn.Linear(64, 10)\n",
        ")\n",
        "\n",
        "# we didn't include softmax at last layer because we are calc loss"
      ],
      "metadata": {
        "id": "zjtQ6VYs9Pi_"
      },
      "execution_count": null,
      "outputs": []
    },
    {
      "cell_type": "code",
      "source": [
        "# softmax is included in cross entropy loss so don't use in train_model\n",
        "criterion = nn.CrossEntropyLoss()\n",
        "\n",
        "# flatten images\n",
        "images = images.view(images.shape[0], -1)\n",
        "\n",
        "# forward pass, get our scores/logits from model\n",
        "logits = train_model(images)\n",
        "\n",
        "# calculate the loss with the logits and the labels\n",
        "loss = criterion(logits, labels)\n",
        "\n",
        "print(loss)"
      ],
      "metadata": {
        "colab": {
          "base_uri": "https://localhost:8080/"
        },
        "id": "BCyIeIQB9uMr",
        "outputId": "199f9be4-38a2-4416-9141-94caa6a19d87"
      },
      "execution_count": null,
      "outputs": [
        {
          "output_type": "stream",
          "name": "stdout",
          "text": [
            "tensor(2.3296, grad_fn=<NllLossBackward0>)\n"
          ]
        }
      ]
    },
    {
      "cell_type": "markdown",
      "source": [
        "let's try the above again but this time let's create  a model which has the last function as ```log_softmax()```"
      ],
      "metadata": {
        "id": "gyI7c3HK-4cu"
      }
    },
    {
      "cell_type": "code",
      "source": [
        "# build a feed-forward network\n",
        "train_model_2 = nn.Sequential(\n",
        "    nn.Linear(784,128),\n",
        "    nn.ReLU(),\n",
        "    nn.Linear(128, 64),\n",
        "    nn.ReLU(),\n",
        "    nn.Linear(64, 10),\n",
        "    nn.LogSoftmax(dim = 1)\n",
        ")\n",
        "# logsoftmax is included so use neg log likelihood loss\n",
        "criterion_2 = nn.NLLLoss()\n",
        "\n",
        "logits_2 = train_model_2(images)\n",
        "# calculate the loss with the logits and the labels\n",
        "loss = criterion_2(logits_2, labels)\n",
        "\n",
        "print(loss)"
      ],
      "metadata": {
        "colab": {
          "base_uri": "https://localhost:8080/"
        },
        "id": "uel1qgPb-k08",
        "outputId": "b80919a5-15f5-4ea8-ab03-b97849f40ba6"
      },
      "execution_count": null,
      "outputs": [
        {
          "output_type": "stream",
          "name": "stdout",
          "text": [
            "tensor(2.2899, grad_fn=<NllLossBackward0>)\n"
          ]
        }
      ]
    },
    {
      "cell_type": "markdown",
      "source": [
        "When we create a network with PyTorch, all of the parameters are initialized with ```requires_grad = True```. This means that when we calculate the loss and call ```loss.backward()```, the gradients for the parameters are calculated. These gradients are used to update the weights with gradient descent."
      ],
      "metadata": {
        "id": "0c2E9BwTKD6s"
      }
    },
    {
      "cell_type": "code",
      "source": [
        "print('Before backward pass: \\n', train_model_2[0].weight.grad)\n",
        "loss.backward()\n",
        "print('After backward pass: \\n', train_model_2[0].weight.grad)"
      ],
      "metadata": {
        "colab": {
          "base_uri": "https://localhost:8080/"
        },
        "id": "_u_l2Uc7APSF",
        "outputId": "d764d4ec-4585-4652-e20a-c10c0b6f8ec2"
      },
      "execution_count": null,
      "outputs": [
        {
          "output_type": "stream",
          "name": "stdout",
          "text": [
            "Before backward pass: \n",
            " None\n",
            "After backward pass: \n",
            " tensor([[ 0.0034,  0.0034,  0.0034,  ...,  0.0034,  0.0034,  0.0034],\n",
            "        [ 0.0012,  0.0012,  0.0012,  ...,  0.0012,  0.0012,  0.0012],\n",
            "        [ 0.0019,  0.0019,  0.0019,  ...,  0.0019,  0.0019,  0.0019],\n",
            "        ...,\n",
            "        [ 0.0009,  0.0009,  0.0009,  ...,  0.0009,  0.0009,  0.0009],\n",
            "        [-0.0005, -0.0005, -0.0005,  ..., -0.0005, -0.0005, -0.0005],\n",
            "        [ 0.0000,  0.0000,  0.0000,  ...,  0.0000,  0.0000,  0.0000]])\n"
          ]
        }
      ]
    },
    {
      "cell_type": "markdown",
      "source": [
        "*A small example to show how gradients are calculated using backward()*"
      ],
      "metadata": {
        "id": "fUfP6P-cJkwR"
      }
    },
    {
      "cell_type": "code",
      "source": [
        "x = torch.tensor([[2.0,4.0], [6.0,8.0]], requires_grad = True)\n",
        "print(x)"
      ],
      "metadata": {
        "colab": {
          "base_uri": "https://localhost:8080/"
        },
        "id": "jqyPFyLoAvBp",
        "outputId": "4ae30b23-b840-4a43-b5a1-c1f238100c86"
      },
      "execution_count": null,
      "outputs": [
        {
          "output_type": "stream",
          "name": "stdout",
          "text": [
            "tensor([[2., 4.],\n",
            "        [6., 8.]], requires_grad=True)\n"
          ]
        }
      ]
    },
    {
      "cell_type": "code",
      "source": [
        "y = x**2\n",
        "print(y)"
      ],
      "metadata": {
        "colab": {
          "base_uri": "https://localhost:8080/"
        },
        "id": "UQqFGxQGJJuq",
        "outputId": "75d0d70e-d635-441e-b681-fed05ec3bca6"
      },
      "execution_count": null,
      "outputs": [
        {
          "output_type": "stream",
          "name": "stdout",
          "text": [
            "tensor([[ 4., 16.],\n",
            "        [36., 64.]], grad_fn=<PowBackward0>)\n"
          ]
        }
      ]
    },
    {
      "cell_type": "code",
      "source": [
        "z = y.mean()\n",
        "print(z)"
      ],
      "metadata": {
        "colab": {
          "base_uri": "https://localhost:8080/"
        },
        "id": "1sgBhZH3JU2M",
        "outputId": "13c8e4fc-8374-4c48-f194-958d5300b12d"
      },
      "execution_count": null,
      "outputs": [
        {
          "output_type": "stream",
          "name": "stdout",
          "text": [
            "tensor(30., grad_fn=<MeanBackward0>)\n"
          ]
        }
      ]
    },
    {
      "cell_type": "code",
      "source": [
        "print(x.grad, y.grad)"
      ],
      "metadata": {
        "colab": {
          "base_uri": "https://localhost:8080/"
        },
        "id": "dLz7HMySJcR_",
        "outputId": "882f19e8-3d85-4915-8be6-4697bc5c35d0"
      },
      "execution_count": null,
      "outputs": [
        {
          "output_type": "stream",
          "name": "stdout",
          "text": [
            "None None\n"
          ]
        },
        {
          "output_type": "stream",
          "name": "stderr",
          "text": [
            "<ipython-input-79-c2a96e82db45>:1: UserWarning: The .grad attribute of a Tensor that is not a leaf Tensor is being accessed. Its .grad attribute won't be populated during autograd.backward(). If you indeed want the .grad field to be populated for a non-leaf Tensor, use .retain_grad() on the non-leaf Tensor. If you access the non-leaf Tensor by mistake, make sure you access the leaf Tensor instead. See github.com/pytorch/pytorch/pull/30531 for more informations. (Triggered internally at aten/src/ATen/core/TensorBody.h:486.)\n",
            "  print(x.grad, y.grad)\n"
          ]
        }
      ]
    },
    {
      "cell_type": "code",
      "source": [
        "z.backward()"
      ],
      "metadata": {
        "id": "5-fkhIY4JgQy"
      },
      "execution_count": null,
      "outputs": []
    },
    {
      "cell_type": "code",
      "source": [
        "print(x.grad)\n",
        "print(x/2)"
      ],
      "metadata": {
        "colab": {
          "base_uri": "https://localhost:8080/"
        },
        "id": "UAnMd6UIJjGQ",
        "outputId": "79ce9e6d-2bac-4f32-b661-f29565090456"
      },
      "execution_count": null,
      "outputs": [
        {
          "output_type": "stream",
          "name": "stdout",
          "text": [
            "tensor([[1., 2.],\n",
            "        [3., 4.]])\n",
            "tensor([[1., 2.],\n",
            "        [3., 4.]], grad_fn=<DivBackward0>)\n"
          ]
        }
      ]
    },
    {
      "cell_type": "markdown",
      "source": [
        "**Start the training!**"
      ],
      "metadata": {
        "id": "zGU_oE0nLUtK"
      }
    },
    {
      "cell_type": "code",
      "source": [
        "from torch import optim\n",
        "\n",
        "# Optimizers require the parameters to optimize and a learning rate"
      ],
      "metadata": {
        "id": "xQHXYGGEJyyJ"
      },
      "execution_count": null,
      "outputs": []
    },
    {
      "cell_type": "code",
      "source": [
        "## Training for real\n",
        "\n",
        "model = nn.Sequential(nn.Linear(784, 128),\n",
        "                      nn.ReLU(),\n",
        "                      nn.Linear(128, 64),\n",
        "                      nn.ReLU(),\n",
        "                      nn.Linear(64, 10),\n",
        "                      nn.LogSoftmax(dim=1))\n",
        "\n",
        "criterion = nn.NLLLoss()\n",
        "optimizer = optim.SGD(model.parameters(), lr=0.003)\n",
        "\n",
        "\n",
        "\n",
        "epochs = 5\n",
        "for e in range(epochs):\n",
        "    running_loss = 0\n",
        "    for images, labels in trainloader:\n",
        "        # Flatten MNIST images into a 784 long vector\n",
        "        images = images.view(images.shape[0], -1)\n",
        "\n",
        "        # Clear the gradients, do this because gradients are accumulated\n",
        "        optimizer.zero_grad()\n",
        "\n",
        "        # Training pass\n",
        "        output = model(images)\n",
        "        loss = criterion(output, labels)\n",
        "        loss.backward()\n",
        "        optimizer.step()\n",
        "\n",
        "        running_loss += loss.item()\n",
        "    else:\n",
        "        print(f\"Training loss: {running_loss/len(trainloader)}\")"
      ],
      "metadata": {
        "colab": {
          "base_uri": "https://localhost:8080/"
        },
        "id": "j79L0jzPL8Jw",
        "outputId": "0c3aeced-20b3-44dd-b762-8682a68f5b9f"
      },
      "execution_count": null,
      "outputs": [
        {
          "output_type": "stream",
          "name": "stdout",
          "text": [
            "Training loss: 1.9352688296263152\n",
            "Training loss: 0.8813958451755519\n",
            "Training loss: 0.5384055214332365\n",
            "Training loss: 0.4403954380388453\n",
            "Training loss: 0.394772467280883\n"
          ]
        }
      ]
    },
    {
      "cell_type": "code",
      "source": [
        "%matplotlib inline\n",
        "\n",
        "dataiter = iter(trainloader)\n",
        "images, labels = next(dataiter)\n",
        "\n",
        "img = images[0].view(1, 784)\n",
        "# Turn off gradients to speed up this part\n",
        "with torch.no_grad():\n",
        "    logps = model(img)\n",
        "\n",
        "# Output of the network are log-probabilities, need to take exponential for probabilities\n",
        "prediction = torch.exp(logps)\n",
        "view_classify(img.view(1, 28, 28), prediction)"
      ],
      "metadata": {
        "colab": {
          "base_uri": "https://localhost:8080/",
          "height": 289
        },
        "id": "c5mCiirINAjh",
        "outputId": "89ada39a-4463-48ce-dc45-f51524dc70b8"
      },
      "execution_count": null,
      "outputs": [
        {
          "output_type": "display_data",
          "data": {
            "text/plain": [
              "<Figure size 600x900 with 2 Axes>"
            ],
            "image/png": "[encoded data removed]"
          },
          "metadata": {
            "image/png": {
              "width": 484,
              "height": 272
            }
          }
        }
      ]
    },
    {
      "cell_type": "markdown",
      "source": [
        "Uncomment the below code to run the entire model from loading to training to testing."
      ],
      "metadata": {
        "id": "c752UekWSKM0"
      }
    },
    {
      "cell_type": "code",
      "source": [
        "# ### ok let's write the code now from top to bottom.\n",
        "# #--- necessary libraries ---#\n",
        "# import torch\n",
        "# from torch import nn\n",
        "# from torchvision import datasets, transforms\n",
        "# from torch import optim\n",
        "\n",
        "# import numpy as np\n",
        "\n",
        "# import matplotlib.pyplot as plt\n",
        "\n",
        "# from six.moves import urllib\n",
        "\n",
        "# #--- download, prepare the data ---#\n",
        "# opener = urllib.request.build_opener()\n",
        "# opener.addheaders = [('User-agent', 'Mozilla/5.0')]\n",
        "# urllib.request.install_opener(opener)\n",
        "\n",
        "# # Define a transform to normalize the data to prepare the data\n",
        "# transform = transforms.Compose([transforms.ToTensor(),\n",
        "#                               transforms.Normalize((0.5,), (0.5,)),\n",
        "#                               ])\n",
        "\n",
        "# # Download and load the training data\n",
        "# trainset = datasets.MNIST('~/.pytorch/MNIST_data/', download=True,\n",
        "#                           train=True, transform=transform)\n",
        "# trainloader = torch.utils.data.DataLoader(trainset, batch_size=64,\n",
        "#                                           shuffle=True)\n",
        "\n",
        "# #--- Create a training model ---#\n",
        "# model = nn.Sequential(\n",
        "#     nn.Linear(784,128),\n",
        "#     nn.ReLU(),\n",
        "#     nn.Linear(128,64),\n",
        "#     nn.ReLU(),\n",
        "#     nn.Linear(64, 10),\n",
        "#     nn.LogSoftmax(dim = 1)\n",
        "# )\n",
        "\n",
        "# criterion = nn.NLLLoss()\n",
        "# optimizer = optim.SGD(model.parameters(), lr=0.003)\n",
        "\n",
        "# #--- Start the training ---#\n",
        "# epoch = 10\n",
        "# for i in range(epoch):\n",
        "#   running_loss = 0\n",
        "#   for images, labels in trainloader:\n",
        "\n",
        "#     # images flattening\n",
        "#     images = images.view(images.shape[0], -1)\n",
        "\n",
        "#     # removing previous gradients\n",
        "#     optimizer.zero_grad()\n",
        "\n",
        "#     # calculating loss and updating gradients\n",
        "#     output = model(images)\n",
        "#     loss = criterion(output, labels)\n",
        "#     loss.backward()\n",
        "#     optimizer.step()\n",
        "\n",
        "#     running_loss += loss.item()\n",
        "#   else:\n",
        "#     print(f\"Training loss: {running_loss/len(trainloader)}\")\n",
        "\n",
        "\n",
        "# #--- A class which helps in visualizing data ---#\n",
        "# def view_classify(img, ps, version=\"MNIST\"):\n",
        "#     ''' Function for viewing an image and it's predicted classes.\n",
        "#     '''\n",
        "#     ps = ps.data.numpy().squeeze()\n",
        "\n",
        "#     fig, (ax1, ax2) = plt.subplots(figsize=(6,9), ncols=2)\n",
        "#     ax1.imshow(img.resize_(1, 28, 28).numpy().squeeze())\n",
        "#     ax1.axis('off')\n",
        "#     ax2.barh(np.arange(10), ps)\n",
        "#     ax2.set_aspect(0.1)\n",
        "#     ax2.set_yticks(np.arange(10))\n",
        "#     if version == \"MNIST\":\n",
        "#         ax2.set_yticklabels(np.arange(10))\n",
        "#     elif version == \"Fashion\":\n",
        "#         ax2.set_yticklabels(['T-shirt/top',\n",
        "#                             'Trouser',\n",
        "#                             'Pullover',\n",
        "#                             'Dress',\n",
        "#                             'Coat',\n",
        "#                             'Sandal',\n",
        "#                             'Shirt',\n",
        "#                             'Sneaker',\n",
        "#                             'Bag',\n",
        "#                             'Ankle Boot'], size='small');\n",
        "#     ax2.set_title('Class Probability')\n",
        "#     ax2.set_xlim(0, 1.1)\n",
        "\n",
        "# #--- testing the trained model ---#\n",
        "# dataiter = iter(trainloader)\n",
        "# images, labels = next(dataiter)\n",
        "\n",
        "# img = images[0].view(1, 784)\n",
        "# # Turn off gradients to speed up this part\n",
        "# with torch.no_grad():\n",
        "#     logps = model(img)\n",
        "\n",
        "# # Output of the network are log-prob, need to take exp for prob\n",
        "# prediction = torch.exp(logps)\n",
        "# view_classify(img.view(1, 28, 28), prediction)"
      ],
      "metadata": {
        "id": "ocy9VfSlOTE_"
      },
      "execution_count": null,
      "outputs": []
    }
  ]
}
