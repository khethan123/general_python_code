{
  "cells": [
    {
      "cell_type": "markdown",
      "metadata": {
        "id": "TIvELpmMvIzp"
      },
      "source": [
        "# Character-Level LSTM in PyTorch\n",
        "\n",
        "In this notebook, I'll construct a character-level LSTM with PyTorch. The network will train character by character on some text, then generate new text character by character. As an example, I will train on Anna Karenina. **This model will be able to generate new text based on the text from the book!**\n",
        "\n",
        "This network is based off of Andrej Karpathy's [post on RNNs](http://karpathy.github.io/2015/05/21/rnn-effectiveness/) and [implementation in Torch](https://github.com/karpathy/char-rnn). Below is the general architecture of the character-wise RNN.\n",
        "\n",
        "<img src=\"https://github.com/udacity/deep-learning-v2-pytorch/blob/master/recurrent-neural-networks/char-rnn/assets/charseq.jpeg?raw=1\" width=\"500\">"
      ]
    },
    {
      "cell_type": "markdown",
      "metadata": {
        "id": "z_9FsQFcvIzq"
      },
      "source": [
        "First let's load in our required resources for data loading and model creation."
      ]
    },
    {
      "cell_type": "code",
      "execution_count": null,
      "metadata": {
        "collapsed": true,
        "id": "GwbVVwV1vIzq"
      },
      "outputs": [],
      "source": [
        "import numpy as np\n",
        "import torch\n",
        "from torch import nn\n",
        "import torch.nn.functional as F"
      ]
    },
    {
      "cell_type": "markdown",
      "metadata": {
        "id": "DfnWC6zfvIzr"
      },
      "source": [
        "## Load in Data\n",
        "\n",
        "Then, we'll load the Anna Karenina text file and convert it into integers for our network to use."
      ]
    },
    {
      "cell_type": "code",
      "execution_count": null,
      "metadata": {
        "collapsed": true,
        "id": "gOlpugyavIzr"
      },
      "outputs": [],
      "source": [
        "# open text file and read in data as `text`\n",
        "with open('/content/anna.txt', 'r') as f:\n",
        "    text = f.read()"
      ]
    },
    {
      "cell_type": "markdown",
      "metadata": {
        "id": "9Gb3Baj0vIzr"
      },
      "source": [
        "Let's check out the first 100 characters, make sure everything is peachy. According to the [American Book Review](http://americanbookreview.org/100bestlines.asp), this is the 6th best first line of a book ever."
      ]
    },
    {
      "cell_type": "code",
      "execution_count": null,
      "metadata": {
        "collapsed": true,
        "id": "kPs24Id9vIzr",
        "colab": {
          "base_uri": "https://localhost:8080/",
          "height": 53
        },
        "outputId": "4f73a9fa-2946-4216-9374-3eb1c79356ff"
      },
      "outputs": [
        {
          "output_type": "execute_result",
          "data": {
            "text/plain": [
              "'Chapter 1\\n\\n\\nHappy families are all alike; every unhappy family is unhappy in its own\\nway.\\n\\nEverythin'"
            ],
            "application/vnd.google.colaboratory.intrinsic+json": {
              "type": "string"
            }
          },
          "metadata": {},
          "execution_count": 3
        }
      ],
      "source": [
        "text[:100]"
      ]
    },
    {
      "cell_type": "markdown",
      "metadata": {
        "id": "_V_VsA2BvIzr"
      },
      "source": [
        "### Tokenization\n",
        "\n",
        "In the cells, below, I'm creating a couple of **dictionaries** to convert the characters to and from integers. Encoding the characters as integers makes it easier to use as input in the network.\n",
        "\n",
        "And using these integers we can also generate the o/p text with the help of the dictionary."
      ]
    },
    {
      "cell_type": "code",
      "execution_count": null,
      "metadata": {
        "collapsed": true,
        "id": "j6OTAkgbvIzr"
      },
      "outputs": [],
      "source": [
        "# encode the text and map each character to an integer and vice versa\n",
        "\n",
        "# we create two dictionaries:\n",
        "# 1. int2char, which maps integers to characters\n",
        "# 2. char2int, which maps characters to unique integers\n",
        "chars = tuple(set(text))\n",
        "int2char = dict(enumerate(chars))\n",
        "char2int = {ch: ii for ii, ch in int2char.items()}\n",
        "\n",
        "# encode the text\n",
        "encoded = np.array([char2int[ch] for ch in text])"
      ]
    },
    {
      "cell_type": "markdown",
      "metadata": {
        "id": "tJIMf79bvIzs"
      },
      "source": [
        "And we can see those same characters from above, encoded as integers."
      ]
    },
    {
      "cell_type": "code",
      "execution_count": null,
      "metadata": {
        "collapsed": true,
        "id": "G2Yaf4g6vIzs",
        "colab": {
          "base_uri": "https://localhost:8080/"
        },
        "outputId": "29c61ad3-9f37-44a2-9d74-d91823874a69"
      },
      "outputs": [
        {
          "output_type": "execute_result",
          "data": {
            "text/plain": [
              "array([ 5, 37, 60,  6, 33, 38, 20, 13, 23, 22, 22, 22, 65, 60,  6,  6, 79,\n",
              "       13, 53, 60, 30, 15, 81, 15, 38, 63, 13, 60, 20, 38, 13, 60, 81, 81,\n",
              "       13, 60, 81, 15, 62, 38, 71, 13, 38,  4, 38, 20, 79, 13, 69, 80, 37,\n",
              "       60,  6,  6, 79, 13, 53, 60, 30, 15, 81, 79, 13, 15, 63, 13, 69, 80,\n",
              "       37, 60,  6,  6, 79, 13, 15, 80, 13, 15, 33, 63, 13, 17, 75, 80, 22,\n",
              "       75, 60, 79, 56, 22, 22, 82,  4, 38, 20, 79, 33, 37, 15, 80])"
            ]
          },
          "metadata": {},
          "execution_count": 5
        }
      ],
      "source": [
        "encoded[:100]"
      ]
    },
    {
      "cell_type": "markdown",
      "metadata": {
        "id": "XVfFPkbNvIzs"
      },
      "source": [
        "## Pre-processing the data\n",
        "\n",
        "As you can see in our char-RNN image above, our LSTM expects an input that is **one-hot encoded** meaning that each character is converted into an integer (via our created dictionary) and *then* converted into a column vector where only it's corresponding integer index will have the value of 1 and the rest of the vector will be filled with 0's. Since we're one-hot encoding the data, let's make a function to do that!\n"
      ]
    },
    {
      "cell_type": "code",
      "source": [
        "# `def one_hot_encode(arr, n_labels):`\n",
        "# This line defines a function called `one_hot_encode` that takes\n",
        "# in two arguments: `arr`, which is an array of integers, and\n",
        "# `n_labels`, which is the number of labels (or classes) in the data.\n",
        "\n",
        "# `one_hot = np.zeros((arr.size, n_labels), dtype=np.float32)` This\n",
        "# line initializes a new array called `one_hot` with the same number\n",
        "# of rows as the input array `arr` and `n_labels` columns. The elements\n",
        "# of this new array are all set to 0.\n",
        "\n",
        "# `one_hot[np.arange(one_hot.shape[0]), arr.flatten()] = 1.` This line\n",
        "# sets the appropriate elements in the `one_hot` array to 1. The indices\n",
        "# of these elements are determined by using the `np.arange` function to\n",
        "# create an array of indices for the rows, and by flattening the input array\n",
        "# `arr` to get the column indices.\n",
        "\n",
        "# `one_hot = one_hot.reshape((*arr.shape, n_labels))` This line reshapes\n",
        "# the `one_hot` array to have the same shape as the input array `arr`, but\n",
        "# with an additional dimension of size `n_labels`.\n"
      ],
      "metadata": {
        "id": "HYCIO0pWjotr"
      },
      "execution_count": null,
      "outputs": []
    },
    {
      "cell_type": "code",
      "execution_count": null,
      "metadata": {
        "collapsed": true,
        "id": "i0ZmPSZzvIzs"
      },
      "outputs": [],
      "source": [
        "def one_hot_encode(arr, n_labels):\n",
        "\n",
        "    # Initialize the encoded array\n",
        "    one_hot = np.zeros((arr.size, n_labels), dtype=np.float32)\n",
        "\n",
        "    # Fill the appropriate elements with ones\n",
        "    one_hot[np.arange(one_hot.shape[0]), arr.flatten()] = 1.\n",
        "\n",
        "    # Finally reshape it to get back to the original array\n",
        "    one_hot = one_hot.reshape((*arr.shape, n_labels))\n",
        "\n",
        "    return one_hot"
      ]
    },
    {
      "cell_type": "code",
      "execution_count": null,
      "metadata": {
        "collapsed": true,
        "id": "CdRKDho0vIzs",
        "colab": {
          "base_uri": "https://localhost:8080/"
        },
        "outputId": "d6230c7e-d4bb-49e6-961f-cf67c3fea527"
      },
      "outputs": [
        {
          "output_type": "stream",
          "name": "stdout",
          "text": [
            "[[[0. 0. 0. 1. 0. 0. 0. 0.]\n",
            "  [0. 0. 0. 0. 0. 1. 0. 0.]\n",
            "  [0. 1. 0. 0. 0. 0. 0. 0.]]]\n"
          ]
        }
      ],
      "source": [
        "# check that the function works as expected\n",
        "test_seq = np.array([[3, 5, 1]])\n",
        "one_hot = one_hot_encode(test_seq, 8)\n",
        "\n",
        "print(one_hot)"
      ]
    },
    {
      "cell_type": "markdown",
      "metadata": {
        "id": "UWjbUe_evIzs"
      },
      "source": [
        "## Making training mini-batches\n",
        "\n",
        "\n",
        "To train on this data, we also want to create mini-batches for training. Remember that we want our batches to be multiple sequences of some desired number of sequence steps. Considering a simple example, our batches would look like this:\n",
        "\n",
        "<img src=\"https://github.com/udacity/deep-learning-v2-pytorch/blob/master/recurrent-neural-networks/char-rnn/assets/sequence_batching@1x.png?raw=1\" width=500px>\n",
        "\n",
        "\n",
        "<br>\n",
        "\n",
        "In this example, we'll take the encoded characters (passed in as the `arr` parameter) and split them into multiple sequences, given by `batch_size`. Each of our sequences will be `seq_length` long.\n",
        "\n",
        "A mini-batch is nothing but a matrix having number of `rows = batch_size` and number of `columns = sequence_length`.\n",
        "\n",
        "### Creating Batches\n",
        "\n",
        "**1. The first thing we need to do is discard some of the text so we only have completely full mini-batches.**\n",
        "\n",
        "Each batch contains $N \\times M$ characters, where $N$ is the batch size (the number of sequences in a batch) and $M$ is the seq_length or number of time steps in a sequence. Then, to get the total number of batches, $K$, that we can make from the array `arr`, you divide the length of `arr` by the number of characters per batch. Once you know the number of batches, you can get the total number of characters to keep from `arr`, $N * M * K$.\n",
        "\n",
        "**2. After that, we need to split `arr` into $N$ batches.**\n",
        "\n",
        "You can do this using `arr.reshape(size)` where `size` is a tuple containing the dimensions sizes of the reshaped array. We know we want $N$ sequences in a batch, so let's make that the size of the first dimension. For the second dimension, you can use `-1` as a placeholder in the size, it'll fill up the array with the appropriate data for you. After this, you should have an array that is $N \\times (M * K)$.\n",
        "\n",
        "**3. Now that we have this array, we can iterate through it to get our mini-batches.**\n",
        "\n",
        "The idea is each batch is a $N \\times M$ window on the $N \\times (M * K)$ array. For each subsequent batch, the window moves over by `seq_length`. We also want to create both the input and target arrays. Remember that the targets are just the inputs shifted over by one character. The way I like to do this window is use `range` to take steps of size `n_steps` from $0$ to `arr.shape[1]`, the total number of tokens in each sequence. That way, the integers you get from `range` always point to the start of a batch, and each window is `seq_length` wide.\n",
        "\n"
      ]
    },
    {
      "cell_type": "code",
      "execution_count": null,
      "metadata": {
        "collapsed": true,
        "id": "2mBbbsg4vIzs"
      },
      "outputs": [],
      "source": [
        "def get_batches(arr, batch_size, seq_length):\n",
        "    '''Create a generator that returns batches of size\n",
        "       batch_size x seq_length from arr.\n",
        "\n",
        "       Arguments\n",
        "       ---------\n",
        "       arr: Array you want to make batches from\n",
        "       batch_size: Batch size, the number of sequences per batch\n",
        "       i.e., number of rows\n",
        "       seq_length: Number of encoded chars in a sequence\n",
        "       i.e., nmber of columns per one mini-batch\n",
        "    '''\n",
        "\n",
        "    batch_size_total = batch_size * seq_length\n",
        "    # total number of batches we can make\n",
        "    n_batches = len(arr)//batch_size_total\n",
        "\n",
        "    # Keep only enough characters to make full batches\n",
        "    arr = arr[:n_batches * batch_size_total]\n",
        "    # Reshape into batch_size rows\n",
        "    arr = arr.reshape((batch_size, -1))\n",
        "\n",
        "    # iterate through the array, one sequence at a time\n",
        "    for n in range(0, arr.shape[1], seq_length):\n",
        "        # The features i.e., all rows & seq_len of columns\n",
        "        x = arr[:, n:n+seq_length]\n",
        "        # The targets, shifted by one, same size as x\n",
        "        y = np.zeros_like(x)\n",
        "        try:\n",
        "            y[:, :-1], y[:, -1] = x[:, 1:], arr[:, n+seq_length]\n",
        "        except IndexError:\n",
        "            y[:, :-1], y[:, -1] = x[:, 1:], arr[:, 0]\n",
        "        yield x, y"
      ]
    },
    {
      "cell_type": "markdown",
      "metadata": {
        "id": "N1zrTH2hvIzt"
      },
      "source": [
        "### Test Your Implementation\n",
        "\n",
        "Now I'll make some data sets and we can check out what's going on as we batch data. Here, as an example, I'm going to use a batch size of 8 and 50 sequence steps."
      ]
    },
    {
      "cell_type": "code",
      "execution_count": null,
      "metadata": {
        "collapsed": true,
        "id": "E6s2yIjEvIzt"
      },
      "outputs": [],
      "source": [
        "batches = get_batches(encoded, 8, 50)\n",
        "x, y = next(batches)"
      ]
    },
    {
      "cell_type": "code",
      "execution_count": null,
      "metadata": {
        "collapsed": true,
        "id": "MF-M5i7gvIzt",
        "colab": {
          "base_uri": "https://localhost:8080/"
        },
        "outputId": "37f3db05-f5ee-4bf3-c96c-6731c006492e"
      },
      "outputs": [
        {
          "output_type": "stream",
          "name": "stdout",
          "text": [
            "x\n",
            " [[ 5 37 60  6 33 38 20 13 23 22]\n",
            " [63 17 80 13 33 37 60 33 13 60]\n",
            " [38 80 46 13 17 20 13 60 13 53]\n",
            " [63 13 33 37 38 13 51 37 15 38]\n",
            " [13 63 60 75 13 37 38 20 13 33]\n",
            " [51 69 63 63 15 17 80 13 60 80]\n",
            " [13  3 80 80 60 13 37 60 46 13]\n",
            " [18 26 81 17 80 63 62 79 56 13]]\n",
            "\n",
            "y\n",
            " [[37 60  6 33 38 20 13 23 22 22]\n",
            " [17 80 13 33 37 60 33 13 60 33]\n",
            " [80 46 13 17 20 13 60 13 53 17]\n",
            " [13 33 37 38 13 51 37 15 38 53]\n",
            " [63 60 75 13 37 38 20 13 33 38]\n",
            " [69 63 63 15 17 80 13 60 80 46]\n",
            " [ 3 80 80 60 13 37 60 46 13 63]\n",
            " [26 81 17 80 63 62 79 56 13 40]]\n"
          ]
        }
      ],
      "source": [
        "# printing out the first 10 items in a sequence\n",
        "print('x\\n', x[:10, :10])\n",
        "print('\\ny\\n', y[:10, :10])"
      ]
    },
    {
      "cell_type": "markdown",
      "metadata": {
        "id": "m3f1yBeUvIzt"
      },
      "source": [
        "If you implemented `get_batches` correctly, the above output should look something like\n",
        "```\n",
        "x\n",
        " [[25  8 60 11 45 27 28 73  1  2]\n",
        " [17  7 20 73 45  8 60 45 73 60]\n",
        " [27 20 80 73  7 28 73 60 73 65]\n",
        " [17 73 45  8 27 73 66  8 46 27]\n",
        " [73 17 60 12 73  8 27 28 73 45]\n",
        " [66 64 17 17 46  7 20 73 60 20]\n",
        " [73 76 20 20 60 73  8 60 80 73]\n",
        " [47 35 43  7 20 17 24 50 37 73]]\n",
        "\n",
        "y\n",
        " [[ 8 60 11 45 27 28 73  1  2  2]\n",
        " [ 7 20 73 45  8 60 45 73 60 45]\n",
        " [20 80 73  7 28 73 60 73 65  7]\n",
        " [73 45  8 27 73 66  8 46 27 65]\n",
        " [17 60 12 73  8 27 28 73 45 27]\n",
        " [64 17 17 46  7 20 73 60 20 80]\n",
        " [76 20 20 60 73  8 60 80 73 17]\n",
        " [35 43  7 20 17 24 50 37 73 36]]\n",
        " ```\n",
        " although the exact numbers may be different. Check to make sure the data is shifted over one step for `y`."
      ]
    },
    {
      "cell_type": "markdown",
      "metadata": {
        "id": "aBEzQLThvIzt"
      },
      "source": [
        "---\n",
        "## Defining the network with PyTorch\n",
        "\n",
        "Below is where you'll define the network.\n",
        "\n",
        "<img src=\"https://github.com/udacity/deep-learning-v2-pytorch/blob/master/recurrent-neural-networks/char-rnn/assets/charRNN.png?raw=1\" width=500px>\n",
        "\n",
        "Next, we'll use PyTorch to define the architecture of the network. We start by defining the layers and operations we want. Then, define a method for the forward pass. we've also been given a method for predicting characters."
      ]
    },
    {
      "cell_type": "markdown",
      "metadata": {
        "id": "D9eSNrLHvIzt"
      },
      "source": [
        "### Model Structure\n",
        "\n",
        "In `__init__` the suggested structure is as follows:\n",
        "* Create and store the necessary dictionaries i.e., `char2int` and `int2char`\n",
        "* Define an LSTM layer that takes as params: an input size (the number of characters), a hidden layer size `n_hidden`, a number of layers `n_layers`, a dropout probability `drop_prob`, and a batch_first boolean (True, since we are batching)\n",
        "* Define a dropout layer with `drop_prob`\n",
        "* Define a fully-connected layer with params: input size `n_hidden` and output size (the number of characters)\n",
        "* Finally, initialize the weights\n",
        "\n",
        "Note that some parameters have been named and given in the `__init__` function, and we use them and store them by doing something like `self.drop_prob = drop_prob`."
      ]
    },
    {
      "cell_type": "markdown",
      "metadata": {
        "id": "HsckKzGavIzt"
      },
      "source": [
        "---\n",
        "### LSTM Inputs/Outputs\n",
        "\n",
        "You can create a basic [LSTM layer](https://pytorch.org/docs/stable/nn.html#lstm) as follows\n",
        "\n",
        "```python\n",
        "self.lstm = nn.LSTM(input_size, n_hidden, n_layers,\n",
        "                            dropout=drop_prob, batch_first=True)\n",
        "```\n",
        "\n",
        "where `input_size` is the number of characters this cell expects to see as sequential input, and `n_hidden` is the number of units in the hidden layers in the cell. And we can add dropout by adding a dropout parameter with a specified probability; this will automatically add dropout to the inputs or outputs. Finally, in the `forward` function, we can **stack** up the LSTM cells into layers using `.view`. **With this, you pass in a list of cells and it will send the output of one cell into the next cell.**\n",
        "\n",
        "We also need to create an initial hidden state of all zeros. This is done like so\n",
        "\n",
        "```python\n",
        "self.init_hidden()\n",
        "```"
      ]
    },
    {
      "cell_type": "code",
      "execution_count": null,
      "metadata": {
        "collapsed": true,
        "id": "P0K-DvcXvIzt",
        "colab": {
          "base_uri": "https://localhost:8080/"
        },
        "outputId": "027c713f-b72c-41d0-ccef-be77cf072b44"
      },
      "outputs": [
        {
          "output_type": "stream",
          "name": "stdout",
          "text": [
            "Training on GPU!\n"
          ]
        }
      ],
      "source": [
        "# check if GPU is available\n",
        "train_on_gpu = torch.cuda.is_available()\n",
        "if(train_on_gpu):\n",
        "    print('Training on GPU!')\n",
        "else:\n",
        "    print('No GPU available, training on CPU; consider making n_epochs very small.')"
      ]
    },
    {
      "cell_type": "code",
      "execution_count": null,
      "metadata": {
        "collapsed": true,
        "id": "fDX2nNV6vIzu"
      },
      "outputs": [],
      "source": [
        "class CharRNN(nn.Module):\n",
        "\n",
        "    def __init__(self, tokens, n_hidden=256, n_layers=2,\n",
        "                               drop_prob=0.5, lr=0.001):\n",
        "        super().__init__()\n",
        "        self.drop_prob = drop_prob\n",
        "        self.n_layers = n_layers\n",
        "        self.n_hidden = n_hidden\n",
        "        self.lr = lr\n",
        "\n",
        "        # creating character dictionaries\n",
        "        self.chars = tokens\n",
        "        self.int2char = dict(enumerate(self.chars))\n",
        "        self.char2int = {ch: ii for ii, ch in self.int2char.items()}\n",
        "\n",
        "        # define the LSTM\n",
        "        # we have len(self.chars) as column size for LSTM\n",
        "        # because each i/p batch will have that many columns\n",
        "        self.lstm = nn.LSTM(len(self.chars), n_hidden, n_layers,\n",
        "                            dropout=drop_prob, batch_first=True)\n",
        "\n",
        "        # define a dropout layer\n",
        "        self.dropout = nn.Dropout(drop_prob)\n",
        "\n",
        "        # define the final, fully-connected output layer\n",
        "        self.fc = nn.Linear(n_hidden, len(self.chars))\n",
        "\n",
        "\n",
        "    def forward(self, x, hidden):\n",
        "        ''' Forward pass through the network.\n",
        "            These inputs are x, and the hidden/cell state `hidden`. '''\n",
        "\n",
        "        # Get the outputs and the new hidden state from the lstm\n",
        "        r_output, hidden = self.lstm(x, hidden)\n",
        "\n",
        "        # pass through the dropout layer\n",
        "        out = self.dropout(r_output)\n",
        "\n",
        "        # stack up the LSTM o/ps uding view\n",
        "        # we need to use contiguous() to reshape the o/p\n",
        "        out = out.contiguous().view(-1, self.n_hidden)\n",
        "\n",
        "        # pass this op to the fully connected layer\n",
        "        out = self.fc(out)\n",
        "\n",
        "        # return the final output and the hidden state\n",
        "        return out, hidden\n",
        "\n",
        "\n",
        "    def init_hidden(self, batch_size):\n",
        "        ''' Initializes hidden state '''\n",
        "        # Create two new tensors with sizes n_layers x batch_size x n_hidden,\n",
        "        # initialized to zero, for hidden state and cell state of LSTM\n",
        "        weight = next(self.parameters()).data\n",
        "\n",
        "        if (train_on_gpu):\n",
        "            hidden = (weight.new(self.n_layers, batch_size, self.n_hidden).zero_().cuda(),\n",
        "                  weight.new(self.n_layers, batch_size, self.n_hidden).zero_().cuda())\n",
        "        else:\n",
        "            hidden = (weight.new(self.n_layers, batch_size, self.n_hidden).zero_(),\n",
        "                      weight.new(self.n_layers, batch_size, self.n_hidden).zero_())\n",
        "\n",
        "        return hidden\n"
      ]
    },
    {
      "cell_type": "markdown",
      "source": [
        "The `init_hidden` function is used to initialize the hidden state of an LSTM network. The hidden state is a tensor that is passed from one time step to the next in the LSTM network. The purpose of the `init_hidden` function is to create two new tensors with sizes `n_layers x batch_size x n_hidden`, initialized to zero, for hidden state and cell state of LSTM.\n",
        "\n",
        "The hidden state is used to keep track of the context of the input sequence. It is passed from one time step to the next and updated at each time step. The cell state is used to keep track of the memory of the input sequence.\n",
        "\n",
        "The size of the hidden state tensor in an LSTM network is `n_layers x batch_size x n_hidden`. The reason for this is that the **hidden state tensor** is passed from one time step to the next in the **LSTM network**. The `n_layers` dimension represents the number of layers in the LSTM network. The `batch_size` dimension represents the number of sequences (rows) in a batch. The `n_hidden` dimension represents the number of hidden units in each layer."
      ],
      "metadata": {
        "id": "UoWxxjCtvO_x"
      }
    },
    {
      "cell_type": "markdown",
      "metadata": {
        "id": "mL8xSxbrvIzu"
      },
      "source": [
        "## Time to train\n",
        "\n",
        "The train function gives us the ability to set the number of epochs, the learning rate, and other parameters.\n",
        "\n",
        "Below we're using an Adam optimizer and cross entropy loss since we are looking at character class scores as output. We calculate the loss and perform backpropagation, as usual!\n",
        "\n",
        "A couple of details about training:\n",
        ">* Within the batch loop, we detach the hidden state from its history; this time setting it equal to a new *tuple* variable because an LSTM has a hidden state that is a tuple of the hidden and cell states.\n",
        "* We use [`clip_grad_norm_`](https://pytorch.org/docs/stable/_modules/torch/nn/utils/clip_grad.html) to help prevent exploding gradients."
      ]
    },
    {
      "cell_type": "code",
      "execution_count": null,
      "metadata": {
        "collapsed": true,
        "id": "Lzno4peuvIzu"
      },
      "outputs": [],
      "source": [
        "def train(net, data, epochs=10, batch_size=10, seq_length=50, lr=0.001, clip=5, val_frac=0.1, print_every=10):\n",
        "    ''' Training a network\n",
        "\n",
        "        Arguments\n",
        "        ---------\n",
        "\n",
        "        net: CharRNN network\n",
        "        data: text data to train the network\n",
        "        epochs: Number of epochs to train\n",
        "        batch_size: Number of mini-sequences per mini-batch, aka batch size\n",
        "        seq_length: Number of character steps per mini-batch\n",
        "        lr: learning rate\n",
        "        clip: gradient clipping\n",
        "        val_frac: Fraction of data to hold out for validation\n",
        "        print_every: Number of steps for printing training and validation loss\n",
        "\n",
        "    '''\n",
        "    net.train()\n",
        "\n",
        "    opt = torch.optim.Adam(net.parameters(), lr=lr)\n",
        "    criterion = nn.CrossEntropyLoss()\n",
        "\n",
        "    # create training and validation data\n",
        "    val_idx = int(len(data)*(1-val_frac))\n",
        "    data, val_data = data[:val_idx], data[val_idx:]\n",
        "\n",
        "    if(train_on_gpu):\n",
        "        net.cuda()\n",
        "\n",
        "    counter = 0\n",
        "    n_chars = len(net.chars)\n",
        "    # returns the number of unique characters in the text corpus used to train\n",
        "    # the model. It is used to define the size of the one-hot encoding for each\n",
        "    # character in the input sequence. The one-hot encoding is then passed\n",
        "    # through an embedding layer to obtain a dense representation of the input sequence.\n",
        "\n",
        "    for e in range(epochs):\n",
        "        # initialize hidden state\n",
        "        h = net.init_hidden(batch_size)\n",
        "\n",
        "        for x, y in get_batches(data, batch_size, seq_length):\n",
        "            counter += 1\n",
        "\n",
        "            # One-hot encode our data and make them Torch tensors\n",
        "            # x = number of rows, n_chars = number of columns\n",
        "            x = one_hot_encode(x, n_chars)\n",
        "            inputs, targets = torch.from_numpy(x), torch.from_numpy(y)\n",
        "\n",
        "            if(train_on_gpu):\n",
        "                inputs, targets = inputs.cuda(), targets.cuda()\n",
        "\n",
        "            # Creating new variables for the hidden state, otherwise\n",
        "            # we'd backprop through the entire training history\n",
        "            h = tuple([each.data for each in h])\n",
        "\n",
        "            # zero accumulated gradients\n",
        "            net.zero_grad()\n",
        "\n",
        "            # get the output from the model\n",
        "            output, h = net(inputs, h)\n",
        "\n",
        "            # calculate the loss and perform backprop by using long tensorsi.e., 64-bit integers\n",
        "            loss = criterion(output, targets.view(batch_size*seq_length).long())\n",
        "            # we are basically comparing our obtained o/p with actual values present\n",
        "            # by flattening them\n",
        "\n",
        "            loss.backward()\n",
        "            # `clip_grad_norm` helps prevent the exploding gradient problem in RNNs / LSTMs.\n",
        "            nn.utils.clip_grad_norm_(net.parameters(), clip)\n",
        "            opt.step()\n",
        "\n",
        "            # loss stats\n",
        "            if counter % print_every == 0:\n",
        "                # Get validation loss\n",
        "                val_h = net.init_hidden(batch_size)\n",
        "                val_losses = []\n",
        "                net.eval()\n",
        "                for x, y in get_batches(val_data, batch_size, seq_length):\n",
        "                    # One-hot encode our data and make them Torch tensors\n",
        "                    x = one_hot_encode(x, n_chars)\n",
        "                    x, y = torch.from_numpy(x), torch.from_numpy(y)\n",
        "\n",
        "                    # Creating new variables for the hidden state, otherwise\n",
        "                    # we'd backprop through the entire training history\n",
        "                    val_h = tuple([each.data for each in val_h])\n",
        "\n",
        "                    inputs, targets = x, y\n",
        "                    if(train_on_gpu):\n",
        "                        inputs, targets = inputs.cuda(), targets.cuda()\n",
        "\n",
        "                    output, val_h = net(inputs, val_h)\n",
        "                    val_loss = criterion(output, targets.view(batch_size*seq_length).long())\n",
        "\n",
        "                    val_losses.append(val_loss.item())\n",
        "\n",
        "                net.train() # reset to train mode after iterationg through validation data\n",
        "\n",
        "                print(\"Epoch: {}/{}...\".format(e+1, epochs),\n",
        "                      \"Step: {}...\".format(counter),\n",
        "                      \"Train Loss: {:.4f}...\".format(loss.item()),\n",
        "                      \"Val Loss: {:.4f}\".format(np.mean(val_losses)))"
      ]
    },
    {
      "cell_type": "markdown",
      "source": [
        "if needed modify the training function to save the model with the least training loss. To achieve this, you can keep track of the lowest training loss observed during training and save the model checkpoint when a new lowest loss is reached. Here's how you can modify your existing training function to include this functionality:\n",
        "```python\n",
        "def train(net, data, epochs=10, batch_size=10, seq_length=50, lr=0.001, clip=5, val_frac=0.1, print_every=10):\n",
        "    # ... (rest of the function remains the same)\n",
        "\n",
        "    lowest_train_loss = float('inf')  # Initialize with a high value\n",
        "\n",
        "    for e in range(epochs):\n",
        "        # ... (rest of the loop remains the same)\n",
        "\n",
        "            # loss stats\n",
        "            if counter % print_every == 0:\n",
        "                # ... (rest of the validation loss calculation remains the same)\n",
        "\n",
        "                # Check if the current training loss is the lowest observed so far\n",
        "                if loss.item() < lowest_train_loss:\n",
        "                    lowest_train_loss = loss.item()\n",
        "\n",
        "                    # Save the model checkpoint for the lowest training loss\n",
        "                    lowest_loss_checkpoint = {\n",
        "                        'n_hidden': net.n_hidden,\n",
        "                        'n_layers': net.n_layers,\n",
        "                        'state_dict': net.state_dict(),\n",
        "                        'tokens': net.chars,\n",
        "                        'lowest_train_loss': lowest_train_loss  # Store the lowest loss\n",
        "                    }\n",
        "\n",
        "                    # Save the checkpoint to a file\n",
        "                    lowest_loss_model_name = 'rnn_lowest_train_loss.net'\n",
        "                    with open(lowest_loss_model_name, 'wb') as f:\n",
        "                        torch.save(lowest_loss_checkpoint, f)\n",
        "\n",
        "                net.train()  # reset to train mode after iterating through validation data\n",
        "\n",
        "                print(\"Epoch: {}/{}...\".format(e + 1, epochs),\n",
        "                      \"Step: {}...\".format(counter),\n",
        "                      \"Train Loss: {:.4f}...\".format(loss.item()),\n",
        "                      \"Val Loss: {:.4f}\".format(np.mean(val_losses)))\n",
        "\n",
        "# ... (rest of the code remains the same)\n",
        "\n",
        "```"
      ],
      "metadata": {
        "id": "2_R1aavQ5CiS"
      }
    },
    {
      "cell_type": "markdown",
      "metadata": {
        "id": "VyDqzVQ7vIzu"
      },
      "source": [
        "## Instantiating the model\n",
        "\n",
        "Now we can actually train the network. First we'll create the network itself, with some given hyperparameters. Then, define the mini-batches sizes, and start training!"
      ]
    },
    {
      "cell_type": "code",
      "execution_count": null,
      "metadata": {
        "collapsed": true,
        "id": "2hRSH7UyvIzu",
        "colab": {
          "base_uri": "https://localhost:8080/"
        },
        "outputId": "5977d82e-e0b6-4955-976b-b1eec1090e1f"
      },
      "outputs": [
        {
          "output_type": "stream",
          "name": "stdout",
          "text": [
            "CharRNN(\n",
            "  (lstm): LSTM(83, 512, num_layers=2, batch_first=True, dropout=0.5)\n",
            "  (dropout): Dropout(p=0.5, inplace=False)\n",
            "  (fc): Linear(in_features=512, out_features=83, bias=True)\n",
            ")\n"
          ]
        }
      ],
      "source": [
        "# set your model hyperparameters\n",
        "# define and print the net\n",
        "n_hidden=512\n",
        "n_layers=2\n",
        "\n",
        "net = CharRNN(chars, n_hidden, n_layers)\n",
        "print(net)"
      ]
    },
    {
      "cell_type": "code",
      "source": [
        "# let's see the number of parameters in our model\n",
        "num_params = sum(p.numel() for p in net.parameters())\n",
        "print(f'Total number of parameters: {num_params}')\n"
      ],
      "metadata": {
        "colab": {
          "base_uri": "https://localhost:8080/"
        },
        "id": "IGq8ZUNuWkOD",
        "outputId": "42166c51-78fb-4ea3-e837-18ceb3b5b066"
      },
      "execution_count": null,
      "outputs": [
        {
          "output_type": "stream",
          "name": "stdout",
          "text": [
            "Total number of parameters: 3366483\n"
          ]
        }
      ]
    },
    {
      "cell_type": "markdown",
      "source": [
        "`We have 1.93 MB FILE i.e., anna.txt => 1.9M parameters and we have 3.3M parameters in this model. So if the model performs badly we can decrease n_hidden to increase it's performance`"
      ],
      "metadata": {
        "id": "Z8IKkZHY0QPI"
      }
    },
    {
      "cell_type": "markdown",
      "metadata": {
        "id": "z4OL7n9LvIzu"
      },
      "source": [
        "### Set your training hyperparameters!"
      ]
    },
    {
      "cell_type": "code",
      "execution_count": null,
      "metadata": {
        "collapsed": true,
        "scrolled": true,
        "id": "qzY0VnkTvIzu",
        "colab": {
          "base_uri": "https://localhost:8080/"
        },
        "outputId": "141c650e-22d3-4a84-a333-7ba78ebef8c7"
      },
      "outputs": [
        {
          "output_type": "stream",
          "name": "stdout",
          "text": [
            "Epoch: 1/25... Step: 20... Train Loss: 3.1474... Val Loss: 3.1388\n",
            "Epoch: 1/25... Step: 40... Train Loss: 3.1086... Val Loss: 3.1189\n",
            "Epoch: 1/25... Step: 60... Train Loss: 3.1158... Val Loss: 3.1129\n",
            "Epoch: 1/25... Step: 80... Train Loss: 3.1095... Val Loss: 3.0963\n",
            "Epoch: 1/25... Step: 100... Train Loss: 3.0153... Val Loss: 3.0002\n",
            "Epoch: 1/25... Step: 120... Train Loss: 2.8700... Val Loss: 2.8130\n",
            "Epoch: 2/25... Step: 140... Train Loss: 2.6512... Val Loss: 2.5916\n",
            "Epoch: 2/25... Step: 160... Train Loss: 2.5154... Val Loss: 2.4824\n",
            "Epoch: 2/25... Step: 180... Train Loss: 2.4235... Val Loss: 2.3977\n",
            "Epoch: 2/25... Step: 200... Train Loss: 2.3709... Val Loss: 2.3450\n",
            "Epoch: 2/25... Step: 220... Train Loss: 2.2961... Val Loss: 2.2753\n",
            "Epoch: 2/25... Step: 240... Train Loss: 2.2555... Val Loss: 2.2230\n",
            "Epoch: 2/25... Step: 260... Train Loss: 2.1693... Val Loss: 2.1707\n",
            "Epoch: 3/25... Step: 280... Train Loss: 2.1718... Val Loss: 2.1259\n",
            "Epoch: 3/25... Step: 300... Train Loss: 2.1050... Val Loss: 2.0796\n",
            "Epoch: 3/25... Step: 320... Train Loss: 2.0458... Val Loss: 2.0389\n",
            "Epoch: 3/25... Step: 340... Train Loss: 2.0381... Val Loss: 2.0049\n",
            "Epoch: 3/25... Step: 360... Train Loss: 1.9606... Val Loss: 1.9723\n",
            "Epoch: 3/25... Step: 380... Train Loss: 1.9664... Val Loss: 1.9365\n",
            "Epoch: 3/25... Step: 400... Train Loss: 1.9023... Val Loss: 1.9080\n",
            "Epoch: 4/25... Step: 420... Train Loss: 1.9068... Val Loss: 1.8809\n",
            "Epoch: 4/25... Step: 440... Train Loss: 1.8752... Val Loss: 1.8539\n",
            "Epoch: 4/25... Step: 460... Train Loss: 1.8148... Val Loss: 1.8271\n",
            "Epoch: 4/25... Step: 480... Train Loss: 1.8326... Val Loss: 1.8054\n",
            "Epoch: 4/25... Step: 500... Train Loss: 1.8189... Val Loss: 1.7838\n",
            "Epoch: 4/25... Step: 520... Train Loss: 1.8150... Val Loss: 1.7604\n",
            "Epoch: 4/25... Step: 540... Train Loss: 1.7318... Val Loss: 1.7416\n",
            "Epoch: 5/25... Step: 560... Train Loss: 1.7509... Val Loss: 1.7292\n",
            "Epoch: 5/25... Step: 580... Train Loss: 1.7198... Val Loss: 1.7082\n",
            "Epoch: 5/25... Step: 600... Train Loss: 1.7050... Val Loss: 1.6936\n",
            "Epoch: 5/25... Step: 620... Train Loss: 1.7025... Val Loss: 1.6792\n",
            "Epoch: 5/25... Step: 640... Train Loss: 1.6789... Val Loss: 1.6634\n",
            "Epoch: 5/25... Step: 660... Train Loss: 1.6429... Val Loss: 1.6514\n",
            "Epoch: 5/25... Step: 680... Train Loss: 1.6666... Val Loss: 1.6369\n",
            "Epoch: 6/25... Step: 700... Train Loss: 1.6440... Val Loss: 1.6252\n",
            "Epoch: 6/25... Step: 720... Train Loss: 1.6252... Val Loss: 1.6136\n",
            "Epoch: 6/25... Step: 740... Train Loss: 1.5977... Val Loss: 1.6006\n",
            "Epoch: 6/25... Step: 760... Train Loss: 1.6178... Val Loss: 1.5925\n",
            "Epoch: 6/25... Step: 780... Train Loss: 1.5806... Val Loss: 1.5823\n",
            "Epoch: 6/25... Step: 800... Train Loss: 1.5888... Val Loss: 1.5754\n",
            "Epoch: 6/25... Step: 820... Train Loss: 1.5378... Val Loss: 1.5676\n",
            "Epoch: 7/25... Step: 840... Train Loss: 1.5464... Val Loss: 1.5582\n",
            "Epoch: 7/25... Step: 860... Train Loss: 1.5504... Val Loss: 1.5444\n",
            "Epoch: 7/25... Step: 880... Train Loss: 1.5539... Val Loss: 1.5413\n",
            "Epoch: 7/25... Step: 900... Train Loss: 1.5315... Val Loss: 1.5334\n",
            "Epoch: 7/25... Step: 920... Train Loss: 1.5270... Val Loss: 1.5231\n",
            "Epoch: 7/25... Step: 940... Train Loss: 1.5181... Val Loss: 1.5152\n",
            "Epoch: 7/25... Step: 960... Train Loss: 1.5299... Val Loss: 1.5112\n",
            "Epoch: 8/25... Step: 980... Train Loss: 1.4983... Val Loss: 1.5026\n",
            "Epoch: 8/25... Step: 1000... Train Loss: 1.4925... Val Loss: 1.4922\n",
            "Epoch: 8/25... Step: 1020... Train Loss: 1.5049... Val Loss: 1.4894\n",
            "Epoch: 8/25... Step: 1040... Train Loss: 1.4914... Val Loss: 1.4858\n",
            "Epoch: 8/25... Step: 1060... Train Loss: 1.4753... Val Loss: 1.4781\n",
            "Epoch: 8/25... Step: 1080... Train Loss: 1.4894... Val Loss: 1.4769\n",
            "Epoch: 8/25... Step: 1100... Train Loss: 1.4543... Val Loss: 1.4676\n",
            "Epoch: 9/25... Step: 1120... Train Loss: 1.4752... Val Loss: 1.4631\n",
            "Epoch: 9/25... Step: 1140... Train Loss: 1.4706... Val Loss: 1.4537\n",
            "Epoch: 9/25... Step: 1160... Train Loss: 1.4366... Val Loss: 1.4538\n",
            "Epoch: 9/25... Step: 1180... Train Loss: 1.4462... Val Loss: 1.4488\n",
            "Epoch: 9/25... Step: 1200... Train Loss: 1.4261... Val Loss: 1.4424\n",
            "Epoch: 9/25... Step: 1220... Train Loss: 1.4321... Val Loss: 1.4361\n",
            "Epoch: 9/25... Step: 1240... Train Loss: 1.4241... Val Loss: 1.4362\n",
            "Epoch: 10/25... Step: 1260... Train Loss: 1.4406... Val Loss: 1.4304\n",
            "Epoch: 10/25... Step: 1280... Train Loss: 1.4438... Val Loss: 1.4157\n",
            "Epoch: 10/25... Step: 1300... Train Loss: 1.4115... Val Loss: 1.4203\n",
            "Epoch: 10/25... Step: 1320... Train Loss: 1.3903... Val Loss: 1.4154\n",
            "Epoch: 10/25... Step: 1340... Train Loss: 1.3839... Val Loss: 1.4128\n",
            "Epoch: 10/25... Step: 1360... Train Loss: 1.3862... Val Loss: 1.4106\n",
            "Epoch: 10/25... Step: 1380... Train Loss: 1.4147... Val Loss: 1.4078\n",
            "Epoch: 11/25... Step: 1400... Train Loss: 1.4358... Val Loss: 1.4036\n",
            "Epoch: 11/25... Step: 1420... Train Loss: 1.4253... Val Loss: 1.3976\n",
            "Epoch: 11/25... Step: 1440... Train Loss: 1.4117... Val Loss: 1.3995\n",
            "Epoch: 11/25... Step: 1460... Train Loss: 1.3713... Val Loss: 1.3990\n",
            "Epoch: 11/25... Step: 1480... Train Loss: 1.3840... Val Loss: 1.3950\n",
            "Epoch: 11/25... Step: 1500... Train Loss: 1.3680... Val Loss: 1.3916\n",
            "Epoch: 11/25... Step: 1520... Train Loss: 1.3749... Val Loss: 1.3870\n",
            "Epoch: 12/25... Step: 1540... Train Loss: 1.3888... Val Loss: 1.3847\n",
            "Epoch: 12/25... Step: 1560... Train Loss: 1.3993... Val Loss: 1.3799\n",
            "Epoch: 12/25... Step: 1580... Train Loss: 1.3299... Val Loss: 1.3809\n",
            "Epoch: 12/25... Step: 1600... Train Loss: 1.3458... Val Loss: 1.3755\n",
            "Epoch: 12/25... Step: 1620... Train Loss: 1.3397... Val Loss: 1.3773\n",
            "Epoch: 12/25... Step: 1640... Train Loss: 1.3450... Val Loss: 1.3725\n",
            "Epoch: 12/25... Step: 1660... Train Loss: 1.3798... Val Loss: 1.3730\n",
            "Epoch: 13/25... Step: 1680... Train Loss: 1.3531... Val Loss: 1.3614\n",
            "Epoch: 13/25... Step: 1700... Train Loss: 1.3360... Val Loss: 1.3610\n",
            "Epoch: 13/25... Step: 1720... Train Loss: 1.3198... Val Loss: 1.3642\n",
            "Epoch: 13/25... Step: 1740... Train Loss: 1.3269... Val Loss: 1.3605\n",
            "Epoch: 13/25... Step: 1760... Train Loss: 1.3212... Val Loss: 1.3625\n",
            "Epoch: 13/25... Step: 1780... Train Loss: 1.3141... Val Loss: 1.3598\n",
            "Epoch: 13/25... Step: 1800... Train Loss: 1.3359... Val Loss: 1.3557\n",
            "Epoch: 14/25... Step: 1820... Train Loss: 1.3292... Val Loss: 1.3545\n",
            "Epoch: 14/25... Step: 1840... Train Loss: 1.2856... Val Loss: 1.3515\n",
            "Epoch: 14/25... Step: 1860... Train Loss: 1.3348... Val Loss: 1.3507\n",
            "Epoch: 14/25... Step: 1880... Train Loss: 1.3226... Val Loss: 1.3514\n",
            "Epoch: 14/25... Step: 1900... Train Loss: 1.3216... Val Loss: 1.3507\n",
            "Epoch: 14/25... Step: 1920... Train Loss: 1.3133... Val Loss: 1.3484\n",
            "Epoch: 14/25... Step: 1940... Train Loss: 1.3368... Val Loss: 1.3418\n",
            "Epoch: 15/25... Step: 1960... Train Loss: 1.3146... Val Loss: 1.3445\n",
            "Epoch: 15/25... Step: 1980... Train Loss: 1.2935... Val Loss: 1.3401\n",
            "Epoch: 15/25... Step: 2000... Train Loss: 1.2777... Val Loss: 1.3378\n",
            "Epoch: 15/25... Step: 2020... Train Loss: 1.3180... Val Loss: 1.3367\n",
            "Epoch: 15/25... Step: 2040... Train Loss: 1.3055... Val Loss: 1.3397\n",
            "Epoch: 15/25... Step: 2060... Train Loss: 1.2910... Val Loss: 1.3355\n",
            "Epoch: 15/25... Step: 2080... Train Loss: 1.2984... Val Loss: 1.3337\n",
            "Epoch: 16/25... Step: 2100... Train Loss: 1.2919... Val Loss: 1.3299\n",
            "Epoch: 16/25... Step: 2120... Train Loss: 1.2935... Val Loss: 1.3279\n",
            "Epoch: 16/25... Step: 2140... Train Loss: 1.2854... Val Loss: 1.3238\n",
            "Epoch: 16/25... Step: 2160... Train Loss: 1.2749... Val Loss: 1.3244\n",
            "Epoch: 16/25... Step: 2180... Train Loss: 1.2755... Val Loss: 1.3284\n",
            "Epoch: 16/25... Step: 2200... Train Loss: 1.2789... Val Loss: 1.3246\n",
            "Epoch: 16/25... Step: 2220... Train Loss: 1.2771... Val Loss: 1.3209\n",
            "Epoch: 17/25... Step: 2240... Train Loss: 1.2765... Val Loss: 1.3217\n",
            "Epoch: 17/25... Step: 2260... Train Loss: 1.2665... Val Loss: 1.3185\n",
            "Epoch: 17/25... Step: 2280... Train Loss: 1.2865... Val Loss: 1.3188\n",
            "Epoch: 17/25... Step: 2300... Train Loss: 1.2334... Val Loss: 1.3177\n",
            "Epoch: 17/25... Step: 2320... Train Loss: 1.2649... Val Loss: 1.3189\n",
            "Epoch: 17/25... Step: 2340... Train Loss: 1.2697... Val Loss: 1.3157\n",
            "Epoch: 17/25... Step: 2360... Train Loss: 1.2789... Val Loss: 1.3152\n",
            "Epoch: 18/25... Step: 2380... Train Loss: 1.2572... Val Loss: 1.3201\n",
            "Epoch: 18/25... Step: 2400... Train Loss: 1.2850... Val Loss: 1.3119\n",
            "Epoch: 18/25... Step: 2420... Train Loss: 1.2561... Val Loss: 1.3087\n",
            "Epoch: 18/25... Step: 2440... Train Loss: 1.2516... Val Loss: 1.3081\n",
            "Epoch: 18/25... Step: 2460... Train Loss: 1.2636... Val Loss: 1.3114\n",
            "Epoch: 18/25... Step: 2480... Train Loss: 1.2519... Val Loss: 1.3076\n",
            "Epoch: 18/25... Step: 2500... Train Loss: 1.2478... Val Loss: 1.3056\n",
            "Epoch: 19/25... Step: 2520... Train Loss: 1.2580... Val Loss: 1.3104\n",
            "Epoch: 19/25... Step: 2540... Train Loss: 1.2773... Val Loss: 1.3038\n",
            "Epoch: 19/25... Step: 2560... Train Loss: 1.2513... Val Loss: 1.3000\n",
            "Epoch: 19/25... Step: 2580... Train Loss: 1.2755... Val Loss: 1.3038\n",
            "Epoch: 19/25... Step: 2600... Train Loss: 1.2441... Val Loss: 1.3047\n",
            "Epoch: 19/25... Step: 2620... Train Loss: 1.2222... Val Loss: 1.2999\n",
            "Epoch: 19/25... Step: 2640... Train Loss: 1.2528... Val Loss: 1.2967\n",
            "Epoch: 20/25... Step: 2660... Train Loss: 1.2540... Val Loss: 1.3056\n",
            "Epoch: 20/25... Step: 2680... Train Loss: 1.2523... Val Loss: 1.2976\n",
            "Epoch: 20/25... Step: 2700... Train Loss: 1.2449... Val Loss: 1.2973\n",
            "Epoch: 20/25... Step: 2720... Train Loss: 1.2252... Val Loss: 1.2978\n",
            "Epoch: 20/25... Step: 2740... Train Loss: 1.2195... Val Loss: 1.3028\n",
            "Epoch: 20/25... Step: 2760... Train Loss: 1.2175... Val Loss: 1.2978\n",
            "Epoch: 20/25... Step: 2780... Train Loss: 1.2793... Val Loss: 1.2983\n",
            "Epoch: 21/25... Step: 2800... Train Loss: 1.2744... Val Loss: 1.2977\n",
            "Epoch: 21/25... Step: 2820... Train Loss: 1.2402... Val Loss: 1.2905\n",
            "Epoch: 21/25... Step: 2840... Train Loss: 1.1947... Val Loss: 1.2911\n",
            "Epoch: 21/25... Step: 2860... Train Loss: 1.2091... Val Loss: 1.2910\n",
            "Epoch: 21/25... Step: 2880... Train Loss: 1.2251... Val Loss: 1.2955\n",
            "Epoch: 21/25... Step: 2900... Train Loss: 1.2007... Val Loss: 1.2894\n",
            "Epoch: 22/25... Step: 2920... Train Loss: 1.2898... Val Loss: 1.2887\n",
            "Epoch: 22/25... Step: 2940... Train Loss: 1.2370... Val Loss: 1.2902\n",
            "Epoch: 22/25... Step: 2960... Train Loss: 1.2068... Val Loss: 1.2860\n",
            "Epoch: 22/25... Step: 2980... Train Loss: 1.1884... Val Loss: 1.2860\n",
            "Epoch: 22/25... Step: 3000... Train Loss: 1.2119... Val Loss: 1.2895\n",
            "Epoch: 22/25... Step: 3020... Train Loss: 1.2265... Val Loss: 1.2896\n",
            "Epoch: 22/25... Step: 3040... Train Loss: 1.1928... Val Loss: 1.2859\n",
            "Epoch: 23/25... Step: 3060... Train Loss: 1.2049... Val Loss: 1.2853\n",
            "Epoch: 23/25... Step: 3080... Train Loss: 1.2090... Val Loss: 1.2846\n",
            "Epoch: 23/25... Step: 3100... Train Loss: 1.1894... Val Loss: 1.2820\n",
            "Epoch: 23/25... Step: 3120... Train Loss: 1.2333... Val Loss: 1.2810\n",
            "Epoch: 23/25... Step: 3140... Train Loss: 1.1745... Val Loss: 1.2858\n",
            "Epoch: 23/25... Step: 3160... Train Loss: 1.2242... Val Loss: 1.2825\n",
            "Epoch: 23/25... Step: 3180... Train Loss: 1.1841... Val Loss: 1.2806\n",
            "Epoch: 24/25... Step: 3200... Train Loss: 1.2118... Val Loss: 1.2873\n",
            "Epoch: 24/25... Step: 3220... Train Loss: 1.2227... Val Loss: 1.2769\n",
            "Epoch: 24/25... Step: 3240... Train Loss: 1.1592... Val Loss: 1.2790\n",
            "Epoch: 24/25... Step: 3260... Train Loss: 1.2246... Val Loss: 1.2730\n",
            "Epoch: 24/25... Step: 3280... Train Loss: 1.2270... Val Loss: 1.2775\n",
            "Epoch: 24/25... Step: 3300... Train Loss: 1.2024... Val Loss: 1.2794\n",
            "Epoch: 24/25... Step: 3320... Train Loss: 1.1713... Val Loss: 1.2767\n",
            "Epoch: 25/25... Step: 3340... Train Loss: 1.1965... Val Loss: 1.2783\n",
            "Epoch: 25/25... Step: 3360... Train Loss: 1.1886... Val Loss: 1.2767\n",
            "Epoch: 25/25... Step: 3380... Train Loss: 1.1807... Val Loss: 1.2801\n",
            "Epoch: 25/25... Step: 3400... Train Loss: 1.2003... Val Loss: 1.2752\n",
            "Epoch: 25/25... Step: 3420... Train Loss: 1.1860... Val Loss: 1.2779\n",
            "Epoch: 25/25... Step: 3440... Train Loss: 1.1737... Val Loss: 1.2745\n",
            "Epoch: 25/25... Step: 3460... Train Loss: 1.1991... Val Loss: 1.2717\n"
          ]
        }
      ],
      "source": [
        "batch_size = 128 # number of rows\n",
        "seq_length = 100 # number of columns\n",
        "n_epochs = 25  # start small if you are just testing initial behavior\n",
        "\n",
        "# train the model\n",
        "train(net, encoded, epochs=n_epochs, batch_size=batch_size, seq_length=seq_length, lr=0.001, print_every=20)"
      ]
    },
    {
      "cell_type": "markdown",
      "metadata": {
        "id": "qcghGau2vIzu"
      },
      "source": [
        "## Getting the best model\n",
        "\n",
        "To set your hyperparameters to get the best performance, you'll want to watch the training and validation losses. If your training loss is much lower than the validation loss, you're **overfitting**. Increase regularization (more dropout) or use a smaller network (less no. of layers, or less no. of hidden units). If the training and validation losses are close, you're **underfitting** so you can increase the size of the network (more no. of layers, or more no. of hidden units)."
      ]
    },
    {
      "cell_type": "markdown",
      "metadata": {
        "id": "c7xAB5YFvIzu"
      },
      "source": [
        "## Hyperparameters\n",
        "\n",
        "Here are the hyperparameters for the network.\n",
        "\n",
        "In defining the model:\n",
        "* `n_hidden` - The number of units in the hidden layers.\n",
        "* `n_layers` - Number of hidden LSTM layers to use.\n",
        "\n",
        "We assume that dropout probability and learning rate will be kept at the default, in this example.\n",
        "\n",
        "And in training:\n",
        "* `batch_size` - Number of sequences running through the network in one pass.\n",
        "* `seq_length` - Number of characters in the sequence the network is trained on. Larger is better typically, the network will learn more long range dependencies. But it takes longer to train. 100 is typically a good number here.\n",
        "* `lr` - Learning rate for training\n",
        "\n",
        "[Here's some good advice from Andrej Karpathy on training the network](https://github.com/karpathy/char-rnn#tips-and-tricks) which is pasted below.\n",
        "\n",
        "> ## Tips and Tricks\n",
        "\n",
        ">### Monitoring Validation Loss vs. Training Loss\n",
        ">If you're somewhat new to Machine Learning or Neural Networks it can take a bit of expertise to get good models. The most important quantity to keep track of is the difference between your training loss (printed during training) and the validation loss (printed once in a while when the RNN is run on the validation data (by default every 1000 iterations)). In particular:\n",
        "\n",
        "> - If your training loss is much lower than validation loss then this means the network might be **overfitting**. Solutions to this are to decrease your network size, or to increase dropout. For example you could try dropout of 0.5 and so on.\n",
        "> - If your training/validation loss are about equal then your model is **underfitting**. Increase the size of your model (either number of layers or the raw number of neurons per layer)\n",
        "\n",
        "> ### Approximate number of parameters\n",
        "\n",
        "> The two most important parameters that control the model are `n_hidden` and `n_layers`. I would advise that you always use `n_layers` of either 2/3. The `n_hidden` can be adjusted based on how much data you have. The two important quantities to keep track of here are:\n",
        "\n",
        "> - The number of parameters in your model. This is printed when you start training.\n",
        "> - The size of your dataset. 1MB file is approximately 1 million characters.\n",
        "\n",
        ">These two should be about the same order of magnitude. It's a little tricky to tell. Here are some examples:\n",
        "\n",
        "> - I have a 100MB dataset and I'm using the default parameter settings (which currently print 150K parameters). My data size is significantly larger (100 mil >> 0.15 mil), so I expect to heavily underfit. I am thinking I can comfortably afford to make `n_hidden` larger.\n",
        "> - I have a 10MB dataset and running a 10 million parameter model. I'm slightly nervous and I'm carefully monitoring my validation loss. If it's larger than my training loss then I may want to try to increase dropout a bit and see if that helps the validation loss.\n",
        "\n",
        "> ### Best models strategy\n",
        "\n",
        ">The winning strategy to obtaining very good models (if you have the compute time) is to always err on making the network larger (as large as you're willing to wait for it to compute) and then try different dropout values (between 0,1). Whatever model has the best validation performance (the loss, written in the checkpoint filename, low is good) is the one you should use in the end.\n",
        "\n",
        ">It is very common in deep learning to run many different models with many different hyperparameter settings, and in the end take whatever checkpoint gave the best validation performance.\n",
        "\n",
        ">By the way, the **size** of your *training and validation splits are also parameters*. Make sure you have a decent amount of data in your validation set or otherwise the validation performance will be noisy and not very informative."
      ]
    },
    {
      "cell_type": "markdown",
      "metadata": {
        "id": "OYtFoTNvvIzv"
      },
      "source": [
        "## Checkpoint\n",
        "\n",
        "After training, we'll save the model so we can load it again later if we need too. Here I'm saving the parameters needed to create the same architecture, the hidden layer hyperparameters and the text characters."
      ]
    },
    {
      "cell_type": "code",
      "execution_count": null,
      "metadata": {
        "collapsed": true,
        "id": "Wi5x79MxvIzv"
      },
      "outputs": [],
      "source": [
        "# change the name, for saving multiple files\n",
        "model_name = 'rnn_25_epoch.net'\n",
        "\n",
        "checkpoint = {'n_hidden': net.n_hidden,\n",
        "              'n_layers': net.n_layers,\n",
        "              'state_dict': net.state_dict(),\n",
        "              'tokens': net.chars}\n",
        "\n",
        "with open(model_name, 'wb') as f:\n",
        "    torch.save(checkpoint, f)"
      ]
    },
    {
      "cell_type": "markdown",
      "metadata": {
        "id": "ICro8uAavIzv"
      },
      "source": [
        "---\n",
        "## Making Predictions\n",
        "\n",
        "Now that the model is trained, we'll want to sample from it and make predictions about next characters! To sample, we pass in a character and have the network predict the next character. Then we take that character, pass it back in, and get another predicted character. Just keep doing this and you'll generate a bunch of text!\n",
        "\n",
        "### A note on the `predict`  function\n",
        "\n",
        "The output of our RNN is from a fully-connected layer and it outputs a **distribution of next-character scores**.\n",
        "\n",
        "> To actually get the next character, we apply a softmax function, which gives us a *probability* distribution that we can then sample to predict the next character.\n",
        "\n",
        "### Top K sampling\n",
        "\n",
        "Our predictions come from a categorical probability distribution over all the possible characters. We can make the sample text and make it more reasonable to handle (with less variables) by only considering some $K$ most probable characters. This will prevent the network from giving us completely absurd characters while allowing it to introduce some noise and randomness into the sampled text. Read more about [topk, here](https://pytorch.org/docs/stable/torch.html#torch.topk).\n"
      ]
    },
    {
      "cell_type": "code",
      "execution_count": null,
      "metadata": {
        "collapsed": true,
        "id": "l4Z7GkQnvIzv"
      },
      "outputs": [],
      "source": [
        "def predict(net, char, h=None, top_k=None):\n",
        "        ''' Given a character, predict the next character.\n",
        "            Returns the predicted character and the hidden state.\n",
        "        '''\n",
        "\n",
        "        # tensor inputs\n",
        "        x = np.array([[net.char2int[char]]])\n",
        "        x = one_hot_encode(x, len(net.chars))\n",
        "        inputs = torch.from_numpy(x)\n",
        "\n",
        "        if(train_on_gpu):\n",
        "            inputs = inputs.cuda()\n",
        "\n",
        "        # detach hidden state from history\n",
        "        h = tuple([each.data for each in h])\n",
        "        # get the output of the model\n",
        "        out, h = net(inputs, h)\n",
        "\n",
        "        # get the character probabilities\n",
        "        p = F.softmax(out, dim=1).data\n",
        "        if(train_on_gpu):\n",
        "            p = p.cpu() # move to cpu\n",
        "\n",
        "        # get top characters\n",
        "        if top_k is None:\n",
        "            top_ch = np.arange(len(net.chars))\n",
        "        else:\n",
        "            p, top_ch = p.topk(top_k)\n",
        "            top_ch = top_ch.numpy().squeeze()\n",
        "\n",
        "        # select the likely next character with some element of randomness\n",
        "        p = p.numpy().squeeze()\n",
        "        char = np.random.choice(top_ch, p=p/p.sum())\n",
        "\n",
        "        # return the encoded value of the predicted char and the hidden state\n",
        "        return net.int2char[char], h"
      ]
    },
    {
      "cell_type": "markdown",
      "metadata": {
        "id": "1g8CEu_TvIzv"
      },
      "source": [
        "### Priming and generating text\n",
        "\n",
        "Typically you'll want to prime the network so you can build up a hidden state. Otherwise the network will start out generating characters at random. In general the first bunch of characters will be a little rough since it hasn't built up a long history of characters to predict from."
      ]
    },
    {
      "cell_type": "code",
      "execution_count": null,
      "metadata": {
        "collapsed": true,
        "id": "Sd8MoKTRvIzv"
      },
      "outputs": [],
      "source": [
        "def sample(net, size, prime='The', top_k=None):\n",
        "\n",
        "    if(train_on_gpu):\n",
        "        net.cuda()\n",
        "    else:\n",
        "        net.cpu()\n",
        "\n",
        "    net.eval() # eval mode\n",
        "\n",
        "    # First off, run through the prime characters\n",
        "    chars = [ch for ch in prime]\n",
        "    h = net.init_hidden(1) # batch_size = 1\n",
        "    # because we are passing one char at a time.\n",
        "    for ch in prime:\n",
        "        char, h = predict(net, ch, h, top_k=top_k)\n",
        "\n",
        "    chars.append(char)\n",
        "\n",
        "    # Now pass in the previous character and get a new one\n",
        "    for ii in range(size):\n",
        "        char, h = predict(net, chars[-1], h, top_k=top_k)\n",
        "        chars.append(char)\n",
        "\n",
        "    return ''.join(chars)"
      ]
    },
    {
      "cell_type": "code",
      "execution_count": null,
      "metadata": {
        "collapsed": true,
        "id": "oY2wGrgZvIzw",
        "colab": {
          "base_uri": "https://localhost:8080/"
        },
        "outputId": "6286c2a7-cd8c-48b6-c441-759ca4673b45"
      },
      "outputs": [
        {
          "output_type": "stream",
          "name": "stdout",
          "text": [
            "Anna answered\n",
            "with his hands.\"\n",
            "\n",
            "She stood stared on his heart. He had not angry.\n",
            "The consciousness and sisters had\n",
            "already been that memory with his hands,\n",
            "was\n",
            "silent, and went, to tell her the most and creature in his class which she had to be a couse and the\n",
            "colonel, to her all, she was all such a chariness and tabirity of such a candle, almost bowed. She felt that it was not to get up that seemed to his formal strange son's of annoying to her husband,\n",
            "and that they's a first strength\n",
            "of the strong moments of the studiart with her chair and against her time\n",
            "weeted to the same sound. The sound of a crowd straight at him. The peasants was\n",
            "not an answer. But in the dinner\n",
            "of wearient hands a feeling of solence of the sacrements.\n",
            "\n",
            "\n",
            "\n",
            "Chapter 24\n",
            " \n",
            "The soft walk, and he had not to do with his breath. His children, and working to both of them with the soul. The\n",
            "consideration had not tented him to be as though he\n",
            "seemed a gloomy old poriet for\n",
            "the princess.\n",
            "\n",
            "After thinking of this strength of the \n"
          ]
        }
      ],
      "source": [
        "print(sample(net, 1000, prime='Anna', top_k=5))"
      ]
    },
    {
      "cell_type": "markdown",
      "metadata": {
        "id": "bjwir2axvIzw"
      },
      "source": [
        "## Loading a checkpoint"
      ]
    },
    {
      "cell_type": "code",
      "execution_count": null,
      "metadata": {
        "collapsed": true,
        "id": "QNf7AvJevIzw",
        "colab": {
          "base_uri": "https://localhost:8080/"
        },
        "outputId": "d23ffde1-7516-4940-a8c4-10b26723d574"
      },
      "outputs": [
        {
          "output_type": "execute_result",
          "data": {
            "text/plain": [
              "<All keys matched successfully>"
            ]
          },
          "metadata": {},
          "execution_count": 22
        }
      ],
      "source": [
        "# Here we have loaded in a model that trained over 25 epochs `rnn_25_epoch.net`\n",
        "with open('rnn_25_epoch.net', 'rb') as f:\n",
        "    checkpoint = torch.load(f)\n",
        "\n",
        "loaded = CharRNN(checkpoint['tokens'], n_hidden=checkpoint['n_hidden'], n_layers=checkpoint['n_layers'])\n",
        "loaded.load_state_dict(checkpoint['state_dict'])"
      ]
    },
    {
      "cell_type": "code",
      "execution_count": null,
      "metadata": {
        "collapsed": true,
        "id": "T38vVsLBvIzw",
        "colab": {
          "base_uri": "https://localhost:8080/"
        },
        "outputId": "79d508d1-3fbe-4eef-c913-69b11edbee24"
      },
      "outputs": [
        {
          "output_type": "stream",
          "name": "stdout",
          "text": [
            "And Levin said that he saw all his son.\n",
            "\n",
            "\"Why? Who could have to stand in her father and then you\n",
            "say. I'm saying the doctor, and she can\n",
            "see him from a court of his arrival, wend\n",
            "off on some sort of condition to the same.\"\n",
            "\n",
            "\"Yes, I'm sorry in the past if the same is true when they won't love his fanty, and when he's a stepar former,\"\n",
            "he said to her as he had not seet her, at him at the same attracted home. The strange she was a smile of her ears, and she was strained and satisfied in a sharilly,\n",
            "and walked to her.\n",
            "\n",
            "\"You're not so in these doors. Well, where is it I didn't believe your sententions and thing?\" he said, and he had no sill acquaintance. \"Well, I do better mean.\"\n",
            "\n",
            "\"Oh, that's not offending one?\"\n",
            "\n",
            "\"It shames to him that I will talk for your son's from him too. I can do to\n",
            "come to have any fire of the stockings, but you know it was all always, to be\n",
            "answer, and I can't believe that there was nothing but her...\"\n",
            "\n",
            "\"Well, you'll say. But you're a great\n",
            "desire.\"\n",
            "\n",
            "\"Yes. I should be taken on a minute of his work in all the three. And there was in all his son. This can be satisfaction, it\n",
            "waits a single doctor, and seem of my way, without a sort of and mind all the passion, but she\n",
            "came for, the sight of this\n",
            "there was nothing of the parting of the crown as a chair to the first, brought there are,\n",
            "who had always depard and done\n",
            "anything to her and so much of the matter of his\n",
            "controd of his condition about his\n",
            "father against the door, and the feers shared. She was always a long and had brought them the bast times to be\n",
            "strange and drawing roubles on what he had always been true that she had not started face on the post and throwing room, and went at the presence to the samp subject. He saw\n",
            "him and\n",
            "weat for a man.\n",
            "\n",
            "\"Were you standing in the mird of that. He's a\n",
            "man to subdiculous of that were, as it was not a girl, better mother, and he's been the simple, but what is it, as though they have all settled them to throw and be anything\n",
            "to the carriage, and I want to stay. When this\n"
          ]
        }
      ],
      "source": [
        "# Sample using a loaded model\n",
        "print(sample(loaded, 2000, top_k=5, prime=\"And Levin said\"))"
      ]
    },
    {
      "cell_type": "code",
      "execution_count": null,
      "metadata": {
        "collapsed": true,
        "id": "S4a-LttAvIzw"
      },
      "outputs": [],
      "source": []
    }
  ],
  "metadata": {
    "kernelspec": {
      "display_name": "Python 3",
      "name": "python3"
    },
    "language_info": {
      "codemirror_mode": {
        "name": "ipython",
        "version": 3
      },
      "file_extension": ".py",
      "mimetype": "text/x-python",
      "name": "python",
      "nbconvert_exporter": "python",
      "pygments_lexer": "ipython3",
      "version": "3.6.4"
    },
    "colab": {
      "provenance": [],
      "gpuType": "T4"
    },
    "accelerator": "GPU"
  },
  "nbformat": 4,
  "nbformat_minor": 0
}
